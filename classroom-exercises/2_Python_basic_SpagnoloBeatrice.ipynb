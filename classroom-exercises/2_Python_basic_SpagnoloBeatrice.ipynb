{
  "nbformat": 4,
  "nbformat_minor": 0,
  "metadata": {
    "colab": {
      "provenance": []
    },
    "kernelspec": {
      "name": "python3",
      "display_name": "Python 3"
    },
    "language_info": {
      "name": "python"
    }
  },
  "cells": [
    {
      "cell_type": "markdown",
      "source": [
        "# INTRODUCTION TO PYTHON\n",
        "Homework 19/10/2023"
      ],
      "metadata": {
        "id": "B_zAb9FTIwSb"
      }
    },
    {
      "cell_type": "code",
      "source": [
        "# we will install and utilize a specific version (python 3.10)\n",
        "\n",
        "# install python at version 3.10\n",
        "!apt-get install python3.10\n",
        "\n",
        "# update symbolic links to the newly installed python version\n",
        "!ln -sf /usr/bin/python3.10 /usr/bin/python\n",
        "!ln -sf /usr/bin/python3.10 /usr/bin/python3\n",
        "\n",
        "# check version\n",
        "!python -V"
      ],
      "metadata": {
        "id": "w1eWafhoTRRS",
        "colab": {
          "base_uri": "https://localhost:8080/"
        },
        "outputId": "998d3177-e00f-4601-cefc-c5486129be62"
      },
      "execution_count": null,
      "outputs": [
        {
          "output_type": "stream",
          "name": "stdout",
          "text": [
            "Reading package lists... Done\n",
            "Building dependency tree... Done\n",
            "Reading state information... Done\n",
            "python3.10 is already the newest version (3.10.12-1~22.04.2).\n",
            "0 upgraded, 0 newly installed, 0 to remove and 19 not upgraded.\n",
            "Python 3.10.12\n"
          ]
        }
      ]
    },
    {
      "cell_type": "markdown",
      "source": [
        "### Part 1: Recap of Python Foundamentals\n",
        "Non serve specificare il tipo della variabile."
      ],
      "metadata": {
        "id": "r8KXMgJvHrdV"
      }
    },
    {
      "cell_type": "code",
      "source": [
        "a = 10        # this is an integer\n",
        "a = \"hello\"   # now a is a string\n",
        "b = 1.1       # this is a float\n",
        "c = True      # this is a boolean\n",
        "\n",
        "print(a, b, c)"
      ],
      "metadata": {
        "colab": {
          "base_uri": "https://localhost:8080/"
        },
        "id": "bW51_xATHIoM",
        "outputId": "b7f1adbc-31d8-4ae0-9d18-c9570745ee12"
      },
      "execution_count": null,
      "outputs": [
        {
          "output_type": "stream",
          "name": "stdout",
          "text": [
            "hello 1.1 True\n"
          ]
        }
      ]
    },
    {
      "cell_type": "code",
      "source": [
        "# math operations\n",
        "a = 11\n",
        "b = 5\n",
        "\n",
        "print(a + b)    # sum\n",
        "print(a - b)    # subtraction\n",
        "print(a * b)    # multiplication\n",
        "print(a / b)    # division\n",
        "print(a // b)   # integer division\n",
        "print(a % b)    # rest of the division"
      ],
      "metadata": {
        "colab": {
          "base_uri": "https://localhost:8080/"
        },
        "id": "jGRhDHtCH16R",
        "outputId": "ae3cebaf-562b-4d17-bf16-4dd0ca5e6e99"
      },
      "execution_count": null,
      "outputs": [
        {
          "output_type": "stream",
          "name": "stdout",
          "text": [
            "16\n",
            "6\n",
            "55\n",
            "2.2\n",
            "2\n",
            "1\n"
          ]
        }
      ]
    },
    {
      "cell_type": "markdown",
      "source": [
        "### Liste\n",
        "\n",
        "* creare una lista\n",
        "* accedere ad un elemento\n",
        "* lunghezza della stringa (funzione len)\n",
        "* lista vuota (empty)\n",
        "* aggiungere elementi nella lista\n",
        "* eliminare un elemento dalla lista\n",
        "\n"
      ],
      "metadata": {
        "id": "b5PDzNPBKq_i"
      }
    },
    {
      "cell_type": "code",
      "source": [
        "e = [1, 2, 3, 4]    # we create a list\n",
        "print(\"e =\", e)\n",
        "\n",
        "# si accede ad un elemento della lista con il suo indice\n",
        "print(\"e[1] = \", e[1]) # we print the second item (remember: the indexes start from zero!)\n",
        "\n",
        "print(\"len(e) = \", len(e)) # length of the list"
      ],
      "metadata": {
        "colab": {
          "base_uri": "https://localhost:8080/"
        },
        "id": "M9PLUb7gH5_l",
        "outputId": "a7dbdef1-f8d8-4e3d-8ee8-036f5ebc0b8a"
      },
      "execution_count": null,
      "outputs": [
        {
          "output_type": "stream",
          "name": "stdout",
          "text": [
            "e = [1, 2, 3, 4]\n",
            "e[1] =  2\n",
            "len(e) =  4\n"
          ]
        }
      ]
    },
    {
      "cell_type": "code",
      "source": [
        "e[1] += 5 # increase by five the second item in our list\n",
        "print(\"e =\", e)"
      ],
      "metadata": {
        "colab": {
          "base_uri": "https://localhost:8080/"
        },
        "id": "sUe7WgroKQ36",
        "outputId": "7de984b1-a301-4f8f-a3d3-7dd4fcf5a531"
      },
      "execution_count": null,
      "outputs": [
        {
          "output_type": "stream",
          "name": "stdout",
          "text": [
            "e = [1, 7, 3, 4]\n"
          ]
        }
      ]
    },
    {
      "cell_type": "code",
      "source": [
        "f = [] # empty list\n",
        "print(\"f = \", f)\n",
        "\n",
        "f.append(1) # add 1 to the empty list\n",
        "f.append(2) # add 2 to the list (at the end)\n",
        "print(\"f = \", f)"
      ],
      "metadata": {
        "colab": {
          "base_uri": "https://localhost:8080/"
        },
        "id": "FW7tgdFCKZFW",
        "outputId": "3dce6e6a-2308-48d2-dba6-d4fba5e5c39d"
      },
      "execution_count": null,
      "outputs": [
        {
          "output_type": "stream",
          "name": "stdout",
          "text": [
            "f =  []\n",
            "f =  [1, 2]\n"
          ]
        }
      ]
    },
    {
      "cell_type": "code",
      "source": [
        "# how to deleate the i-th element on a list?\n",
        "print(\"e = \", e)\n",
        "e.pop(2) # remove the item e[2] from e\n",
        "print(\"e = \", e)"
      ],
      "metadata": {
        "colab": {
          "base_uri": "https://localhost:8080/"
        },
        "id": "Nsoun0S-Kbkw",
        "outputId": "6d16ae0d-220f-460b-a450-41eec458cffa"
      },
      "execution_count": null,
      "outputs": [
        {
          "output_type": "stream",
          "name": "stdout",
          "text": [
            "e =  [1, 7, 3, 4]\n",
            "e =  [1, 7, 4]\n"
          ]
        }
      ]
    },
    {
      "cell_type": "markdown",
      "source": [
        "###Boolean operatos\n",
        "Utilizzati per testare delle condizioni"
      ],
      "metadata": {
        "id": "PKQQCi4kH99z"
      }
    },
    {
      "cell_type": "code",
      "source": [
        "print(1 > 1)\n",
        "print(1 >= 1)\n",
        "print(1 < 2)\n",
        "print(1 == 1)\n",
        "print(1 != 1)"
      ],
      "metadata": {
        "id": "pF5pHt66H-gn"
      },
      "execution_count": null,
      "outputs": []
    },
    {
      "cell_type": "markdown",
      "metadata": {
        "id": "-c4VlkLcIQAD"
      },
      "source": [
        "### Different commands\n",
        "\n",
        "* if-else statements\n",
        "* while loops\n",
        "* for loops"
      ]
    },
    {
      "cell_type": "code",
      "metadata": {
        "id": "zq8wz5RUIQAD",
        "colab": {
          "base_uri": "https://localhost:8080/"
        },
        "outputId": "c68cb0ae-8b00-4bd2-985f-3752336f7ace"
      },
      "source": [
        "# here we want to print, between variables a and b, which has the greater value\n",
        "a = 1\n",
        "b = 2\n",
        "if a > b:\n",
        "    print(a)\n",
        "else:\n",
        "    print(b)"
      ],
      "execution_count": null,
      "outputs": [
        {
          "output_type": "stream",
          "name": "stdout",
          "text": [
            "2\n"
          ]
        }
      ]
    },
    {
      "cell_type": "code",
      "metadata": {
        "id": "POpXccYeIQAE",
        "colab": {
          "base_uri": "https://localhost:8080/"
        },
        "outputId": "6e4e3f22-db37-4af5-b0fe-e26f7462d809"
      },
      "source": [
        "# we want to understand if the value in the variable a is contained in the range [0, 10]\n",
        "a = 10\n",
        "\n",
        "if a < 0:\n",
        "    print(\"Lower\")\n",
        "elif a > 10:\n",
        "    print(\"Higher\")\n",
        "else:\n",
        "    print(\"Inside\")\n"
      ],
      "execution_count": null,
      "outputs": [
        {
          "output_type": "stream",
          "name": "stdout",
          "text": [
            "Inside\n"
          ]
        }
      ]
    },
    {
      "cell_type": "code",
      "metadata": {
        "id": "8CIrVj13IQAE",
        "colab": {
          "base_uri": "https://localhost:8080/"
        },
        "outputId": "4b27c224-0d2f-4df3-8f2b-38cdd1c01321"
      },
      "source": [
        "# while loop example: print numbers from 1 to 10\n",
        "idx = 1\n",
        "while(idx <= 10):\n",
        "    print(idx)\n",
        "    idx += 1      # increase the index by one"
      ],
      "execution_count": null,
      "outputs": [
        {
          "output_type": "stream",
          "name": "stdout",
          "text": [
            "1\n",
            "2\n",
            "3\n",
            "4\n",
            "5\n",
            "6\n",
            "7\n",
            "8\n",
            "9\n",
            "10\n"
          ]
        }
      ]
    },
    {
      "cell_type": "markdown",
      "metadata": {
        "id": "YpNVxC7xIQAE"
      },
      "source": [
        "### Function\n",
        "* Definire una funzione\n",
        "* utilizzare una funzione"
      ]
    },
    {
      "cell_type": "code",
      "metadata": {
        "id": "ubL6H1E4IQAE",
        "colab": {
          "base_uri": "https://localhost:8080/"
        },
        "outputId": "cb6557d4-112a-4e30-a623-14a5bb20ed5b"
      },
      "source": [
        "# Funzioni utilizzate per riutilizzare il codice\n",
        "\n",
        "def sum(a, b):   # the function accepts two numbers, and it returns their sum\n",
        "    return a + b # the function returns an integer\n",
        "\n",
        "print(sum(10, 2))\n",
        "\n",
        "somma = sum(10, 3.5)\n",
        "print(somma)"
      ],
      "execution_count": null,
      "outputs": [
        {
          "output_type": "stream",
          "name": "stdout",
          "text": [
            "12\n",
            "13.5\n"
          ]
        }
      ]
    },
    {
      "cell_type": "markdown",
      "metadata": {
        "id": "n-bd6AoBIQAF"
      },
      "source": [
        "**Dictionaries** <br>\n",
        "Dictionaries per salvare i dati utilizzando la coppia key:value <br>\n",
        "Dictionaries extend lists by allowing to access its elements by a generic \"key\" identifier (as opposed to their numerical position). <br>"
      ]
    },
    {
      "cell_type": "code",
      "metadata": {
        "id": "d1xSfmetIQAF",
        "colab": {
          "base_uri": "https://localhost:8080/"
        },
        "outputId": "c9c01936-4488-4975-ea4b-464225a1b72d"
      },
      "source": [
        "#define a dictionary\n",
        "ex = {\n",
        "    \"key1\": 10,\n",
        "    \"key2\": 2\n",
        "}\n",
        "\n",
        "print(\"ex =\", ex)  # print the entire dictionary\n",
        "print(\"len(ex) =\", len(ex))  # print the number of items contained in the dictionary\n",
        "\n",
        "print(ex.keys())  # print all the keys\n",
        "print(ex.values())  # print all the values"
      ],
      "execution_count": null,
      "outputs": [
        {
          "output_type": "stream",
          "name": "stdout",
          "text": [
            "ex = {'key1': 10, 'key2': 2}\n",
            "len(ex) = 2\n",
            "dict_keys(['key1', 'key2'])\n",
            "dict_values([10, 2])\n"
          ]
        }
      ]
    },
    {
      "cell_type": "code",
      "source": [
        "ex[\"key1\"] = 11   # update a value\n",
        "ex[\"key2\"] += 1   # update a value\n",
        "ex[\"key3\"] = 5    # insert a new value\n",
        "\n",
        "print(ex)"
      ],
      "metadata": {
        "colab": {
          "base_uri": "https://localhost:8080/"
        },
        "id": "dc7GkFT4qhA6",
        "outputId": "32497334-2ec7-46bf-81d5-cd33bb156c58"
      },
      "execution_count": null,
      "outputs": [
        {
          "output_type": "stream",
          "name": "stdout",
          "text": [
            "{'key1': 11, 'key2': 3, 'key3': 5}\n"
          ]
        }
      ]
    },
    {
      "cell_type": "code",
      "source": [
        "del ex[\"key1\"]    # remove \"key1\" key-value pair\n",
        "print(\"ex after deleting key1 = \", ex)"
      ],
      "metadata": {
        "colab": {
          "base_uri": "https://localhost:8080/"
        },
        "id": "UaALlZrJq9nc",
        "outputId": "4f2edaf0-e5f5-4100-b563-a148cdb5bbf3"
      },
      "execution_count": null,
      "outputs": [
        {
          "output_type": "stream",
          "name": "stdout",
          "text": [
            "ex after deleting key1 =  {'key2': 3, 'key3': 5}\n"
          ]
        }
      ]
    },
    {
      "cell_type": "code",
      "source": [
        "#the keys can also be integers\n",
        "ex2 = {\n",
        "    2: \"Hello\",\n",
        "    3: \"World\"\n",
        "}\n",
        "print(ex2[2])"
      ],
      "metadata": {
        "colab": {
          "base_uri": "https://localhost:8080/"
        },
        "id": "ZCRB-3BsrAZh",
        "outputId": "c42e37e2-b663-471e-bed7-b220f93eea84"
      },
      "execution_count": null,
      "outputs": [
        {
          "output_type": "stream",
          "name": "stdout",
          "text": [
            "Hello\n"
          ]
        }
      ]
    },
    {
      "cell_type": "code",
      "source": [
        "#Examples on how to loop inside dictionaries\n",
        "print(\"Loop example 1\")\n",
        "for key in ex.keys():\n",
        "    print(key, ex[key])\n",
        "\n",
        "print(\"Loop example 2\")\n",
        "#we can also loop among the dictionary pairs <key, values>\n",
        "for key, value in ex.items():\n",
        "    print(key, value)"
      ],
      "metadata": {
        "colab": {
          "base_uri": "https://localhost:8080/"
        },
        "id": "7c-qcNCurEFp",
        "outputId": "22d32e0f-9bb8-4de1-dfed-e40751550270"
      },
      "execution_count": null,
      "outputs": [
        {
          "output_type": "stream",
          "name": "stdout",
          "text": [
            "Loop example 1\n",
            "key2 3\n",
            "key3 5\n",
            "Loop example 2\n",
            "key2 3\n",
            "key3 5\n"
          ]
        }
      ]
    },
    {
      "cell_type": "markdown",
      "metadata": {
        "id": "FEYPAuooDOI8"
      },
      "source": [
        "# Lab 1: Introduction to Numpy\n"
      ]
    },
    {
      "cell_type": "markdown",
      "metadata": {
        "id": "2K3Hdi0okgp1"
      },
      "source": [
        "Importiamo la libreria Numpy library (by default installed in Google Colab Notebook)<br>\n",
        "Sometimes we want to utilize a specific version so in these cases we can install and use the version we want."
      ]
    },
    {
      "cell_type": "code",
      "source": [
        "# install numpy at version 1.23.5\n",
        "%pip install numpy==1.23.5\n",
        "\n",
        "# rename numpy as np\n",
        "import numpy as np\n",
        "\n",
        "#check numpy version\n",
        "np.__version__"
      ],
      "metadata": {
        "id": "78qumXc9SOPH",
        "colab": {
          "base_uri": "https://localhost:8080/",
          "height": 53
        },
        "outputId": "c56ecf42-5baf-41e6-95cf-b146d2483dd9"
      },
      "execution_count": null,
      "outputs": [
        {
          "output_type": "stream",
          "name": "stdout",
          "text": [
            "Requirement already satisfied: numpy==1.23.5 in /usr/local/lib/python3.10/dist-packages (1.23.5)\n"
          ]
        },
        {
          "output_type": "execute_result",
          "data": {
            "text/plain": [
              "'1.23.5'"
            ],
            "application/vnd.google.colaboratory.intrinsic+json": {
              "type": "string"
            }
          },
          "metadata": {},
          "execution_count": 11
        }
      ]
    },
    {
      "cell_type": "markdown",
      "metadata": {
        "id": "VNhfR4s8ltGX"
      },
      "source": [
        "We used %%time to time the execution"
      ]
    },
    {
      "cell_type": "code",
      "metadata": {
        "colab": {
          "base_uri": "https://localhost:8080/"
        },
        "id": "XuLoaop1lwPy",
        "outputId": "7867fd0b-caf1-4272-dfbd-0b345e6f700b"
      },
      "source": [
        "%%time\n",
        "a = np.arange(100000)\n",
        "b = np.arange(100000)"
      ],
      "execution_count": null,
      "outputs": [
        {
          "output_type": "stream",
          "name": "stdout",
          "text": [
            "CPU times: user 1.09 ms, sys: 0 ns, total: 1.09 ms\n",
            "Wall time: 1.1 ms\n"
          ]
        }
      ]
    },
    {
      "cell_type": "code",
      "metadata": {
        "colab": {
          "base_uri": "https://localhost:8080/"
        },
        "id": "Zq1B0WG3lzsM",
        "outputId": "22ce53e7-ba7e-449c-9a82-69fa2fec782c"
      },
      "source": [
        "%%time\n",
        "c = a + 2 * b"
      ],
      "execution_count": null,
      "outputs": [
        {
          "output_type": "stream",
          "name": "stdout",
          "text": [
            "CPU times: user 22 µs, sys: 1.02 ms, total: 1.04 ms\n",
            "Wall time: 7.06 ms\n"
          ]
        }
      ]
    },
    {
      "cell_type": "markdown",
      "metadata": {
        "id": "9KVR_aIimFbt"
      },
      "source": [
        "The process we used above in the numpy version of the code is called **vectorization**. Vectorization refers to applying operations to arrays instead of just individual elements (i.e. no loops)."
      ]
    },
    {
      "cell_type": "markdown",
      "metadata": {
        "id": "rqSa0JQ6tH0B"
      },
      "source": [
        "In general, list can contain eterogeneous data, while this is not true for numpy array."
      ]
    },
    {
      "cell_type": "code",
      "metadata": {
        "colab": {
          "base_uri": "https://localhost:8080/"
        },
        "id": "9nDUXrirszF0",
        "outputId": "65de1653-3b64-483b-89de-8fa3dd0d3547"
      },
      "source": [
        "list_eter = [\"ciao\", 1, True]\n",
        "list_eter"
      ],
      "execution_count": null,
      "outputs": [
        {
          "output_type": "execute_result",
          "data": {
            "text/plain": [
              "['ciao', 1, True]"
            ]
          },
          "metadata": {},
          "execution_count": 9
        }
      ]
    },
    {
      "cell_type": "code",
      "metadata": {
        "colab": {
          "base_uri": "https://localhost:8080/"
        },
        "id": "YCDILQkqs9Ua",
        "outputId": "eb8d578c-0f97-4e75-df54-f8f72fe9fe21"
      },
      "source": [
        "# np.array puo' contenere un solo tipo di dati\n",
        "np.array([\"ciao\", 1, True])"
      ],
      "execution_count": null,
      "outputs": [
        {
          "output_type": "execute_result",
          "data": {
            "text/plain": [
              "array(['ciao', '1', 'True'], dtype='<U21')"
            ]
          },
          "metadata": {},
          "execution_count": 11
        }
      ]
    },
    {
      "cell_type": "markdown",
      "metadata": {
        "id": "OoLacSpOmJnp"
      },
      "source": [
        "Why vectorize?\n",
        "1. Much faster\n",
        "2. Easier to read and fewer lines of code\n",
        "3. More closely assembles mathematical notation"
      ]
    },
    {
      "cell_type": "markdown",
      "metadata": {
        "id": "VS0G_2g_mOUz"
      },
      "source": [
        "### ndarray\n",
        "\n",
        "ndarrays = n-dimensional arrays of homogenous data type\n",
        "- stesso tipo di dati\n",
        "- size fissata al momento della creazione"
      ]
    },
    {
      "cell_type": "code",
      "metadata": {
        "colab": {
          "base_uri": "https://localhost:8080/"
        },
        "id": "Toi_jrHLmPnL",
        "outputId": "f140258a-b8c9-45e9-df6b-8607320866d5"
      },
      "source": [
        "# Initialize ndarrays with Python lists\n",
        "a = np.array([1, 2, 3])   # Create a rank 1 array\n",
        "print('type:', type(a))   # tipo di dato\n",
        "print('shape:', a.shape)  # dimensioni\n",
        "print('a:', a)"
      ],
      "execution_count": null,
      "outputs": [
        {
          "output_type": "stream",
          "name": "stdout",
          "text": [
            "type: <class 'numpy.ndarray'>\n",
            "shape: (3,)\n",
            "a: [1 2 3]\n"
          ]
        }
      ]
    },
    {
      "cell_type": "code",
      "source": [
        "a_cpy= a.copy()\n",
        "\n",
        "a[0] = 5                 # Change an element of the array\n",
        "print('a iniziale modificato:', a)\n",
        "print('a copiato:', a_cpy)"
      ],
      "metadata": {
        "colab": {
          "base_uri": "https://localhost:8080/"
        },
        "id": "afYqSF9Er7_1",
        "outputId": "46f15683-3c01-48ec-ef07-bdc634103f50"
      },
      "execution_count": null,
      "outputs": [
        {
          "output_type": "stream",
          "name": "stdout",
          "text": [
            "a iniziale modificato: [5 2 3]\n",
            "a copiato: [5 2 3]\n"
          ]
        }
      ]
    },
    {
      "cell_type": "code",
      "source": [
        "b = np.array([[1, 2, 3],\n",
        "              [4, 5, 6]])   # Create a matrix = list of lists of numbers\n",
        "                            # (where each internal list of numbers represent a row)\n",
        "                            # to create the numpy array\n",
        "print('shape:', b.shape)\n",
        "print(b[0, 0], b[0, 1], b[1, 0])"
      ],
      "metadata": {
        "colab": {
          "base_uri": "https://localhost:8080/"
        },
        "id": "tNclVc-RsYqC",
        "outputId": "cd625c7f-5f46-4c1b-8b68-de276f2a25be"
      },
      "execution_count": null,
      "outputs": [
        {
          "output_type": "stream",
          "name": "stdout",
          "text": [
            "shape: (2, 3)\n",
            "1 2 4\n"
          ]
        }
      ]
    },
    {
      "cell_type": "code",
      "metadata": {
        "colab": {
          "base_uri": "https://localhost:8080/"
        },
        "id": "BgOMILMymfml",
        "outputId": "9bdd261e-adfe-4795-dcac-6cd8ac9d4153"
      },
      "source": [
        "a = np.zeros((2, 2))   # Create an array of all zeros\n",
        "print(a)\n",
        "\n",
        "a = np.ones((2, 2))    # Create an array of all ones\n",
        "print(a)\n",
        "\n",
        "b = np.full((2, 2), 7)  # Create a constant array\n",
        "print(b)\n",
        "\n",
        "c = np.eye(2)         # Create a 2 x 2 identity matrix\n",
        "print(c)\n",
        "\n",
        "d = np.random.random((2, 2))  # Create an array filled with random values\n",
        "print(d)"
      ],
      "execution_count": null,
      "outputs": [
        {
          "output_type": "stream",
          "name": "stdout",
          "text": [
            "[[0. 0.]\n",
            " [0. 0.]]\n",
            "[[7 7]\n",
            " [7 7]]\n",
            "[[1. 0.]\n",
            " [0. 1.]]\n",
            "[[0.78437268 0.03325798]\n",
            " [0.1570341  0.25557545]]\n"
          ]
        }
      ]
    },
    {
      "cell_type": "code",
      "metadata": {
        "colab": {
          "base_uri": "https://localhost:8080/"
        },
        "id": "3RC3MLACALq6",
        "outputId": "d65d97d4-ac04-467e-b8e1-41992f760b8a"
      },
      "source": [
        "print(\"setting the random seed and generating 3 random arrays\")\n",
        "np.random.seed(123)   # to control the sequence of random values generated by np.random\n",
        "print(np.random.random(4))\n",
        "print(np.random.random(4))\n",
        "print(np.random.random(4))\n",
        "\n",
        "print(\"setting the random seed and generating 3 random arrays\")\n",
        "np.random.seed(123)\n",
        "print(np.random.random(4))\n",
        "print(np.random.random(4))\n",
        "print(np.random.random(4))\n"
      ],
      "execution_count": null,
      "outputs": [
        {
          "output_type": "stream",
          "name": "stdout",
          "text": [
            "setting the random seed and generating 3 random arrays\n",
            "[0.69646919 0.28613933 0.22685145 0.55131477]\n",
            "[0.71946897 0.42310646 0.9807642  0.68482974]\n",
            "[0.4809319  0.39211752 0.34317802 0.72904971]\n",
            "setting the random seed and generating 3 random arrays\n",
            "[0.69646919 0.28613933 0.22685145 0.55131477]\n",
            "[0.71946897 0.42310646 0.9807642  0.68482974]\n",
            "[0.4809319  0.39211752 0.34317802 0.72904971]\n"
          ]
        }
      ]
    },
    {
      "cell_type": "code",
      "metadata": {
        "colab": {
          "base_uri": "https://localhost:8080/"
        },
        "id": "qAxVVp_cmqvU",
        "outputId": "3def0533-34b8-4974-981f-def97e55d20b"
      },
      "source": [
        "nums = np.arange(8)   # create an array [0, 7]\n",
        "print(nums)\n",
        "print(nums.shape)\n",
        "\n",
        "#RESHAPE\n",
        "nums2 = nums.reshape((2, 4)) # 2 rows, 4 columns (a matrix from an array)\n",
        "nums3 = nums.reshape((4, 2)) # 4 rows, 2 columns\n",
        "\n",
        "print(\"nums2:\\n\", nums2)\n",
        "print(\"nums3:\\n\", nums3)"
      ],
      "execution_count": null,
      "outputs": [
        {
          "output_type": "stream",
          "name": "stdout",
          "text": [
            "[0 1 2 3 4 5 6 7]\n",
            "(8,)\n",
            "nums2:\n",
            " [[0 1 2 3]\n",
            " [4 5 6 7]]\n",
            "nums3:\n",
            " [[0 1]\n",
            " [2 3]\n",
            " [4 5]\n",
            " [6 7]]\n"
          ]
        }
      ]
    },
    {
      "cell_type": "markdown",
      "metadata": {
        "id": "4XLVq92Qn6Jy"
      },
      "source": [
        "NumPy supports an object-oriented paradigm"
      ]
    },
    {
      "cell_type": "code",
      "metadata": {
        "colab": {
          "base_uri": "https://localhost:8080/"
        },
        "id": "ApdUWcraoB7h",
        "outputId": "dbb45e3c-35fe-4e2f-d8ad-ed837b4daacf"
      },
      "source": [
        "nums = np.arange(8)\n",
        "print(nums)\n",
        "print(nums.min())\n",
        "print(np.min(nums))\n",
        "\n",
        "print(np.reshape(nums, (4, 2))) #change how the array looks like"
      ],
      "execution_count": null,
      "outputs": [
        {
          "output_type": "stream",
          "name": "stdout",
          "text": [
            "[0 1 2 3 4 5 6 7]\n",
            "0\n",
            "0\n",
            "[[0 1]\n",
            " [2 3]\n",
            " [4 5]\n",
            " [6 7]]\n"
          ]
        }
      ]
    },
    {
      "cell_type": "markdown",
      "source": [
        "Operazioni sulle matrici"
      ],
      "metadata": {
        "id": "CnNDJ4GctivU"
      }
    },
    {
      "cell_type": "code",
      "metadata": {
        "colab": {
          "base_uri": "https://localhost:8080/"
        },
        "id": "B1mvmWv_tfvM",
        "outputId": "401a8bc2-2695-4e70-f1a9-0f9b33de6d7a"
      },
      "source": [
        "m = np.array([[1, 2], [4, 5]])\n",
        "print(m)\n",
        "\n",
        "print(m.T)  # Traspose of the matrix\n",
        "\n",
        "print(np.linalg.inv(m))   # inverse of the matrix"
      ],
      "execution_count": null,
      "outputs": [
        {
          "output_type": "stream",
          "name": "stdout",
          "text": [
            "[[1 2]\n",
            " [4 5]]\n",
            "[[1 4]\n",
            " [2 5]]\n",
            "[[-1.66666667  0.66666667]\n",
            " [ 1.33333333 -0.33333333]]\n"
          ]
        }
      ]
    },
    {
      "cell_type": "code",
      "metadata": {
        "colab": {
          "base_uri": "https://localhost:8080/"
        },
        "id": "WFwfDyzitX5T",
        "outputId": "b462385e-69fc-4ca9-9bfb-a5dcad467615"
      },
      "source": [
        "#we can access to only some numbers\n",
        "print(m)\n",
        "print(m[0, :])   # print all values of the first row\n",
        "print(m[:, 1])   # print  all values of the second col\n",
        "\n",
        "n = np.array([1, 2, 3, 4, 5])\n",
        "print(\"n = \", n)\n",
        "print(\"n[2:4] = \", n[2: 4])   # print n[2], n[3], therefore the index 2 is included and 4 is not included"
      ],
      "execution_count": null,
      "outputs": [
        {
          "output_type": "stream",
          "name": "stdout",
          "text": [
            "[[1 2]\n",
            " [4 5]]\n",
            "[1 2]\n",
            "[2 5]\n",
            "n =  [1 2 3 4 5]\n",
            "n[2:4] =  [3 4]\n"
          ]
        }
      ]
    },
    {
      "cell_type": "code",
      "metadata": {
        "colab": {
          "base_uri": "https://localhost:8080/"
        },
        "id": "sTW-KgE3ukYP",
        "outputId": "a6353642-bd0d-47c0-98ff-02bffcd5c55a"
      },
      "source": [
        "#can we stack two arrays together?\n",
        "a = np.array([[1, 2, 3]])\n",
        "b = np.array([[4, 5, 6]])\n",
        "\n",
        "print(\"Funzione vstack:\\n\", np.vstack((a, b, a)), \"\\n\")\n",
        "print(\"Funzione hstack:\", np.hstack((a, b, a)))"
      ],
      "execution_count": null,
      "outputs": [
        {
          "output_type": "stream",
          "name": "stdout",
          "text": [
            "Funzione vstack:\n",
            " [[1 2 3]\n",
            " [4 5 6]\n",
            " [1 2 3]] \n",
            "\n",
            "Funzione hstack: [[1 2 3 4 5 6 1 2 3]]\n"
          ]
        }
      ]
    },
    {
      "cell_type": "markdown",
      "metadata": {
        "id": "qdGpLEd-oSe7"
      },
      "source": [
        "### Array Operations/Math\n",
        "\n",
        "NumPy supports many elementwise operations:"
      ]
    },
    {
      "cell_type": "code",
      "metadata": {
        "colab": {
          "base_uri": "https://localhost:8080/"
        },
        "id": "3qA_xJjGoXmO",
        "outputId": "e2efb2e3-9ba4-4c6a-9dfd-0054d6ad74f5"
      },
      "source": [
        "# define two matrixes: x and y\n",
        "x = np.array([[1, 2],\n",
        "              [3, 4]], dtype=np.float64)\n",
        "y = np.array([[5, 6],\n",
        "              [7, 8]], dtype=np.float64)\n",
        "\n",
        "print(\"Sum:\\n\", np.add(x, y), \"\\n\")\n",
        "\n",
        "print(\"Difference:\\n\", np.subtract(x, y), \"\\n\")\n",
        "\n",
        "print(\"Product:\\n\", np.multiply(x, y), \"\\n\")\n",
        "\n",
        "print(\"Division:\\n\", np.divide(x, y), \"\\n\")\n",
        "\n",
        "print(\"Square root:\\n\", np.sqrt(x), \"\\n\")\n",
        "\n",
        "print(\"Square (x^2) :\\n\", x ** 2, \"\\n\")\n",
        "\n",
        "print(\"Cube (x^3) :\\n\", x ** 3)"
      ],
      "execution_count": null,
      "outputs": [
        {
          "output_type": "stream",
          "name": "stdout",
          "text": [
            "Sum:\n",
            " [[ 6.  8.]\n",
            " [10. 12.]] \n",
            "\n",
            "Difference:\n",
            " [[-4. -4.]\n",
            " [-4. -4.]] \n",
            "\n",
            "Product:\n",
            " [[ 5. 12.]\n",
            " [21. 32.]] \n",
            "\n",
            "Division:\n",
            " [[0.2        0.33333333]\n",
            " [0.42857143 0.5       ]] \n",
            "\n",
            "Square root:\n",
            " [[1.         1.41421356]\n",
            " [1.73205081 2.        ]] \n",
            "\n",
            "Square (x^2) :\n",
            " [[ 1.  4.]\n",
            " [ 9. 16.]] \n",
            "\n",
            "Cube (x^3) :\n",
            " [[ 1.  8.]\n",
            " [27. 64.]]\n"
          ]
        }
      ]
    },
    {
      "cell_type": "markdown",
      "metadata": {
        "id": "qqorcz-Apd4J"
      },
      "source": [
        "* l'asterisco (*) indica una moltiplicazione elemento per elemento, non una moltiplicazione tra matrici\n",
        "* funzione \"dot\" per calcolare i prodotti interni tra vettori, moltiplicare un vettore per una matrice e moltiplicare matrici."
      ]
    },
    {
      "cell_type": "code",
      "metadata": {
        "colab": {
          "base_uri": "https://localhost:8080/"
        },
        "id": "FU_N_ieJpgKd",
        "outputId": "1d823cf3-792d-43be-fd03-5ba3fefadc13"
      },
      "source": [
        "x = np.array([[1, 2], [3, 4]])\n",
        "y = np.array([[5, 6], [7, 8]])\n",
        "\n",
        "v = np.array([9, 10])\n",
        "w = np.array([11, 12])\n",
        "\n",
        "print(\"v*w (inner product vectors) =\", v.dot(w))\n",
        "print(\"w*v (inner product vectors) =\", np.dot(v, w), \"\\n\")\n",
        "\n",
        "print(\"x*v (Matrix / vector product) =\", x.dot(v))\n",
        "print(\"x*v (Matrix / vector product) =\", np.dot(x, v), \"\\n\")\n",
        "\n",
        "print(\"x*y (Matrix / matrix product)\\n\", x.dot(y), \"\\n\")\n",
        "print(\"x*y (Matrix / matrix product)\\n\", np.dot(x, y), \"\\n\")\n",
        "print(\"x*y (Matrix / matrix product)\\n\", x @ y)\n",
        "# Attenzione alle dimensioni delle matrici !!"
      ],
      "execution_count": null,
      "outputs": [
        {
          "output_type": "stream",
          "name": "stdout",
          "text": [
            "v*w (inner product vectors) = 219\n",
            "w*v (inner product vectors) = 219 \n",
            "\n",
            "x*v (Matrix / vector product) = [29 67]\n",
            "x*v (Matrix / vector product) = [29 67] \n",
            "\n",
            "x*y (Matrix / matrix product)\n",
            " [[19 22]\n",
            " [43 50]] \n",
            "\n",
            "x*y (Matrix / matrix product)\n",
            " [[19 22]\n",
            " [43 50]] \n",
            "\n",
            "x*y (Matrix / matrix product)\n",
            " [[19 22]\n",
            " [43 50]]\n"
          ]
        }
      ]
    },
    {
      "cell_type": "markdown",
      "metadata": {
        "id": "D1BswnDktNHI"
      },
      "source": [
        "There are many useful functions built into NumPy, and often we're able to express them across specific axes of the ndarray:"
      ]
    },
    {
      "cell_type": "code",
      "metadata": {
        "colab": {
          "base_uri": "https://localhost:8080/"
        },
        "id": "a4P3OphItLu1",
        "outputId": "f5b77a66-8c6a-4e73-a0f0-e19812b7abc2"
      },
      "source": [
        "x = np.array([[1, 2, 3],\n",
        "              [4, 5, 6]])\n",
        "\n",
        "print(\"Sum of all elements:\", np.sum(x), \"\\n\")\n",
        "\n",
        "print(\"Sum of each column:\", np.sum(x, axis=0), \"\\n\")\n",
        "print(\"Sum of each row:\", np.sum(x, axis=1), \"\\n\")\n",
        "\n",
        "print(\"Max of each column:\", np.max(x, axis=0), \"\\n\")\n",
        "print(\"Max of each row:\", np.max(x, axis=1))\n"
      ],
      "execution_count": null,
      "outputs": [
        {
          "output_type": "stream",
          "name": "stdout",
          "text": [
            "Sum of all elements: 21 \n",
            "\n",
            "Sum of each column: [5 7 9] \n",
            "\n",
            "Sum of each row: [ 6 15] \n",
            "\n",
            "Max of each column: [4 5 6] \n",
            "\n",
            "Max of each row [3 6]\n"
          ]
        }
      ]
    },
    {
      "cell_type": "code",
      "metadata": {
        "colab": {
          "base_uri": "https://localhost:8080/"
        },
        "id": "lICfig3Htn0X",
        "outputId": "44095af4-8c2c-4600-9fd5-6b632f7380c8"
      },
      "source": [
        "x = np.array([[1, 2, 3],\n",
        "              [4, 5, 6]])\n",
        "\n",
        "print(np.argmax(x, axis=1)) # Compute index of max of each row"
      ],
      "execution_count": null,
      "outputs": [
        {
          "output_type": "stream",
          "name": "stdout",
          "text": [
            "[2 2]\n"
          ]
        }
      ]
    },
    {
      "cell_type": "code",
      "metadata": {
        "colab": {
          "base_uri": "https://localhost:8080/"
        },
        "id": "No8FYeR_tw6x",
        "outputId": "964b24e0-d5d1-4cba-90d6-d80a72aceeb0"
      },
      "source": [
        "x = np.array([1, 2, 3, 7, 8, 9, 4, 5, 4])\n",
        "\n",
        "print(x > 5)  # a list of elementwise comparisons\n",
        "\n",
        "print(x[x > 5])   # we can access our vector elements with boolean indexes\n",
        "\n",
        "x[x>=6] = 5   # assign the value 5 to all elements of x greater or equal than 6\n",
        "\n",
        "print(\"x dopo aver assegnato il valore 5 a tutti gli elementi >= 6:\", x)"
      ],
      "execution_count": null,
      "outputs": [
        {
          "output_type": "stream",
          "name": "stdout",
          "text": [
            "[False False False  True  True  True False False False]\n",
            "[7 8 9]\n",
            "x dopo aver assegnato il valore 5 a tutti gli elementi >= 6 [1 2 3 5 5 5 4 5 4]\n"
          ]
        }
      ]
    },
    {
      "cell_type": "markdown",
      "metadata": {
        "id": "T5_P7014uhLX"
      },
      "source": [
        "### Import a dataset\n",
        "\n",
        "Pandas viene utilizzato per importare dataset"
      ]
    },
    {
      "cell_type": "code",
      "metadata": {
        "id": "XPSQa8YS0VRH"
      },
      "source": [
        "# we start by importing some useful libraries\n",
        "import pandas as pd #pandas manages our datasets (e.g., csv)\n",
        "import numpy as np #our friend, numpy\n",
        "\n",
        "# get two graphic libraries\n",
        "import matplotlib.pyplot as plt\n",
        "import seaborn as sns\n",
        "%matplotlib inline"
      ],
      "execution_count": null,
      "outputs": []
    },
    {
      "cell_type": "code",
      "metadata": {
        "colab": {
          "base_uri": "https://localhost:8080/",
          "height": 206
        },
        "id": "kSBW_5I10WiJ",
        "outputId": "cfe07b34-0549-4d09-e4bd-f000377e9819"
      },
      "source": [
        "#import the dataset\n",
        "data_url = 'https://raw.githubusercontent.com/cmdlinetips/data/master/cars.tsv' #we define the url\n",
        "cars = pd.read_csv(data_url, sep=\"\\t\") #pandas allows us to import dataset from url. The rows are separated by the tab.\n",
        "\n",
        "# Using the function head() we can see the first 5 rows of the dataset.\n",
        "# From the output, we can see that the variable cars is organized as a csv file\n",
        "cars.head()"
      ],
      "execution_count": null,
      "outputs": [
        {
          "output_type": "execute_result",
          "data": {
            "text/plain": [
              "   speed  dist\n",
              "0      4     2\n",
              "1      4    10\n",
              "2      7     4\n",
              "3      7    22\n",
              "4      8    16"
            ],
            "text/html": [
              "\n",
              "  <div id=\"df-2ee39432-99ff-47a9-b926-40fdcfb2480e\" class=\"colab-df-container\">\n",
              "    <div>\n",
              "<style scoped>\n",
              "    .dataframe tbody tr th:only-of-type {\n",
              "        vertical-align: middle;\n",
              "    }\n",
              "\n",
              "    .dataframe tbody tr th {\n",
              "        vertical-align: top;\n",
              "    }\n",
              "\n",
              "    .dataframe thead th {\n",
              "        text-align: right;\n",
              "    }\n",
              "</style>\n",
              "<table border=\"1\" class=\"dataframe\">\n",
              "  <thead>\n",
              "    <tr style=\"text-align: right;\">\n",
              "      <th></th>\n",
              "      <th>speed</th>\n",
              "      <th>dist</th>\n",
              "    </tr>\n",
              "  </thead>\n",
              "  <tbody>\n",
              "    <tr>\n",
              "      <th>0</th>\n",
              "      <td>4</td>\n",
              "      <td>2</td>\n",
              "    </tr>\n",
              "    <tr>\n",
              "      <th>1</th>\n",
              "      <td>4</td>\n",
              "      <td>10</td>\n",
              "    </tr>\n",
              "    <tr>\n",
              "      <th>2</th>\n",
              "      <td>7</td>\n",
              "      <td>4</td>\n",
              "    </tr>\n",
              "    <tr>\n",
              "      <th>3</th>\n",
              "      <td>7</td>\n",
              "      <td>22</td>\n",
              "    </tr>\n",
              "    <tr>\n",
              "      <th>4</th>\n",
              "      <td>8</td>\n",
              "      <td>16</td>\n",
              "    </tr>\n",
              "  </tbody>\n",
              "</table>\n",
              "</div>\n",
              "    <div class=\"colab-df-buttons\">\n",
              "\n",
              "  <div class=\"colab-df-container\">\n",
              "    <button class=\"colab-df-convert\" onclick=\"convertToInteractive('df-2ee39432-99ff-47a9-b926-40fdcfb2480e')\"\n",
              "            title=\"Convert this dataframe to an interactive table.\"\n",
              "            style=\"display:none;\">\n",
              "\n",
              "  <svg xmlns=\"http://www.w3.org/2000/svg\" height=\"24px\" viewBox=\"0 -960 960 960\">\n",
              "    <path d=\"M120-120v-720h720v720H120Zm60-500h600v-160H180v160Zm220 220h160v-160H400v160Zm0 220h160v-160H400v160ZM180-400h160v-160H180v160Zm440 0h160v-160H620v160ZM180-180h160v-160H180v160Zm440 0h160v-160H620v160Z\"/>\n",
              "  </svg>\n",
              "    </button>\n",
              "\n",
              "  <style>\n",
              "    .colab-df-container {\n",
              "      display:flex;\n",
              "      gap: 12px;\n",
              "    }\n",
              "\n",
              "    .colab-df-convert {\n",
              "      background-color: #E8F0FE;\n",
              "      border: none;\n",
              "      border-radius: 50%;\n",
              "      cursor: pointer;\n",
              "      display: none;\n",
              "      fill: #1967D2;\n",
              "      height: 32px;\n",
              "      padding: 0 0 0 0;\n",
              "      width: 32px;\n",
              "    }\n",
              "\n",
              "    .colab-df-convert:hover {\n",
              "      background-color: #E2EBFA;\n",
              "      box-shadow: 0px 1px 2px rgba(60, 64, 67, 0.3), 0px 1px 3px 1px rgba(60, 64, 67, 0.15);\n",
              "      fill: #174EA6;\n",
              "    }\n",
              "\n",
              "    .colab-df-buttons div {\n",
              "      margin-bottom: 4px;\n",
              "    }\n",
              "\n",
              "    [theme=dark] .colab-df-convert {\n",
              "      background-color: #3B4455;\n",
              "      fill: #D2E3FC;\n",
              "    }\n",
              "\n",
              "    [theme=dark] .colab-df-convert:hover {\n",
              "      background-color: #434B5C;\n",
              "      box-shadow: 0px 1px 3px 1px rgba(0, 0, 0, 0.15);\n",
              "      filter: drop-shadow(0px 1px 2px rgba(0, 0, 0, 0.3));\n",
              "      fill: #FFFFFF;\n",
              "    }\n",
              "  </style>\n",
              "\n",
              "    <script>\n",
              "      const buttonEl =\n",
              "        document.querySelector('#df-2ee39432-99ff-47a9-b926-40fdcfb2480e button.colab-df-convert');\n",
              "      buttonEl.style.display =\n",
              "        google.colab.kernel.accessAllowed ? 'block' : 'none';\n",
              "\n",
              "      async function convertToInteractive(key) {\n",
              "        const element = document.querySelector('#df-2ee39432-99ff-47a9-b926-40fdcfb2480e');\n",
              "        const dataTable =\n",
              "          await google.colab.kernel.invokeFunction('convertToInteractive',\n",
              "                                                    [key], {});\n",
              "        if (!dataTable) return;\n",
              "\n",
              "        const docLinkHtml = 'Like what you see? Visit the ' +\n",
              "          '<a target=\"_blank\" href=https://colab.research.google.com/notebooks/data_table.ipynb>data table notebook</a>'\n",
              "          + ' to learn more about interactive tables.';\n",
              "        element.innerHTML = '';\n",
              "        dataTable['output_type'] = 'display_data';\n",
              "        await google.colab.output.renderOutput(dataTable, element);\n",
              "        const docLink = document.createElement('div');\n",
              "        docLink.innerHTML = docLinkHtml;\n",
              "        element.appendChild(docLink);\n",
              "      }\n",
              "    </script>\n",
              "  </div>\n",
              "\n",
              "\n",
              "<div id=\"df-1da74763-6ef5-41ee-b7b4-ca4f0d86e03a\">\n",
              "  <button class=\"colab-df-quickchart\" onclick=\"quickchart('df-1da74763-6ef5-41ee-b7b4-ca4f0d86e03a')\"\n",
              "            title=\"Suggest charts.\"\n",
              "            style=\"display:none;\">\n",
              "\n",
              "<svg xmlns=\"http://www.w3.org/2000/svg\" height=\"24px\"viewBox=\"0 0 24 24\"\n",
              "     width=\"24px\">\n",
              "    <g>\n",
              "        <path d=\"M19 3H5c-1.1 0-2 .9-2 2v14c0 1.1.9 2 2 2h14c1.1 0 2-.9 2-2V5c0-1.1-.9-2-2-2zM9 17H7v-7h2v7zm4 0h-2V7h2v10zm4 0h-2v-4h2v4z\"/>\n",
              "    </g>\n",
              "</svg>\n",
              "  </button>\n",
              "\n",
              "<style>\n",
              "  .colab-df-quickchart {\n",
              "      --bg-color: #E8F0FE;\n",
              "      --fill-color: #1967D2;\n",
              "      --hover-bg-color: #E2EBFA;\n",
              "      --hover-fill-color: #174EA6;\n",
              "      --disabled-fill-color: #AAA;\n",
              "      --disabled-bg-color: #DDD;\n",
              "  }\n",
              "\n",
              "  [theme=dark] .colab-df-quickchart {\n",
              "      --bg-color: #3B4455;\n",
              "      --fill-color: #D2E3FC;\n",
              "      --hover-bg-color: #434B5C;\n",
              "      --hover-fill-color: #FFFFFF;\n",
              "      --disabled-bg-color: #3B4455;\n",
              "      --disabled-fill-color: #666;\n",
              "  }\n",
              "\n",
              "  .colab-df-quickchart {\n",
              "    background-color: var(--bg-color);\n",
              "    border: none;\n",
              "    border-radius: 50%;\n",
              "    cursor: pointer;\n",
              "    display: none;\n",
              "    fill: var(--fill-color);\n",
              "    height: 32px;\n",
              "    padding: 0;\n",
              "    width: 32px;\n",
              "  }\n",
              "\n",
              "  .colab-df-quickchart:hover {\n",
              "    background-color: var(--hover-bg-color);\n",
              "    box-shadow: 0 1px 2px rgba(60, 64, 67, 0.3), 0 1px 3px 1px rgba(60, 64, 67, 0.15);\n",
              "    fill: var(--button-hover-fill-color);\n",
              "  }\n",
              "\n",
              "  .colab-df-quickchart-complete:disabled,\n",
              "  .colab-df-quickchart-complete:disabled:hover {\n",
              "    background-color: var(--disabled-bg-color);\n",
              "    fill: var(--disabled-fill-color);\n",
              "    box-shadow: none;\n",
              "  }\n",
              "\n",
              "  .colab-df-spinner {\n",
              "    border: 2px solid var(--fill-color);\n",
              "    border-color: transparent;\n",
              "    border-bottom-color: var(--fill-color);\n",
              "    animation:\n",
              "      spin 1s steps(1) infinite;\n",
              "  }\n",
              "\n",
              "  @keyframes spin {\n",
              "    0% {\n",
              "      border-color: transparent;\n",
              "      border-bottom-color: var(--fill-color);\n",
              "      border-left-color: var(--fill-color);\n",
              "    }\n",
              "    20% {\n",
              "      border-color: transparent;\n",
              "      border-left-color: var(--fill-color);\n",
              "      border-top-color: var(--fill-color);\n",
              "    }\n",
              "    30% {\n",
              "      border-color: transparent;\n",
              "      border-left-color: var(--fill-color);\n",
              "      border-top-color: var(--fill-color);\n",
              "      border-right-color: var(--fill-color);\n",
              "    }\n",
              "    40% {\n",
              "      border-color: transparent;\n",
              "      border-right-color: var(--fill-color);\n",
              "      border-top-color: var(--fill-color);\n",
              "    }\n",
              "    60% {\n",
              "      border-color: transparent;\n",
              "      border-right-color: var(--fill-color);\n",
              "    }\n",
              "    80% {\n",
              "      border-color: transparent;\n",
              "      border-right-color: var(--fill-color);\n",
              "      border-bottom-color: var(--fill-color);\n",
              "    }\n",
              "    90% {\n",
              "      border-color: transparent;\n",
              "      border-bottom-color: var(--fill-color);\n",
              "    }\n",
              "  }\n",
              "</style>\n",
              "\n",
              "  <script>\n",
              "    async function quickchart(key) {\n",
              "      const quickchartButtonEl =\n",
              "        document.querySelector('#' + key + ' button');\n",
              "      quickchartButtonEl.disabled = true;  // To prevent multiple clicks.\n",
              "      quickchartButtonEl.classList.add('colab-df-spinner');\n",
              "      try {\n",
              "        const charts = await google.colab.kernel.invokeFunction(\n",
              "            'suggestCharts', [key], {});\n",
              "      } catch (error) {\n",
              "        console.error('Error during call to suggestCharts:', error);\n",
              "      }\n",
              "      quickchartButtonEl.classList.remove('colab-df-spinner');\n",
              "      quickchartButtonEl.classList.add('colab-df-quickchart-complete');\n",
              "    }\n",
              "    (() => {\n",
              "      let quickchartButtonEl =\n",
              "        document.querySelector('#df-1da74763-6ef5-41ee-b7b4-ca4f0d86e03a button');\n",
              "      quickchartButtonEl.style.display =\n",
              "        google.colab.kernel.accessAllowed ? 'block' : 'none';\n",
              "    })();\n",
              "  </script>\n",
              "</div>\n",
              "    </div>\n",
              "  </div>\n"
            ]
          },
          "metadata": {},
          "execution_count": 60
        }
      ]
    },
    {
      "cell_type": "code",
      "metadata": {
        "colab": {
          "base_uri": "https://localhost:8080/"
        },
        "id": "UBqK0Q3n0_ku",
        "outputId": "95e7c410-877b-4a87-9a8a-b30ba6c86461"
      },
      "source": [
        "# we can easily access to the columns as follows\n",
        "print(cars.head()[\"speed\"])"
      ],
      "execution_count": null,
      "outputs": [
        {
          "output_type": "stream",
          "name": "stdout",
          "text": [
            "0    4\n",
            "1    4\n",
            "2    7\n",
            "3    7\n",
            "4    8\n",
            "Name: speed, dtype: int64\n"
          ]
        }
      ]
    },
    {
      "cell_type": "code",
      "source": [
        "X = cars[\"speed\"].values #get all the values of the \"speed\" column\n",
        "Y = cars[\"dist\"].values #get all the values of the \"Dist\" column\n",
        "\n",
        "print(\"Speed:\", X)\n",
        "print(\"Dist:\", Y)"
      ],
      "metadata": {
        "colab": {
          "base_uri": "https://localhost:8080/"
        },
        "id": "nbskGP2JDcHS",
        "outputId": "08370046-a6c7-45fc-be2f-18aa2807a78a"
      },
      "execution_count": null,
      "outputs": [
        {
          "output_type": "stream",
          "name": "stdout",
          "text": [
            "Speed: [ 4  4  7  7  8  9 10 10 10 11 11 12 12 12 12 13 13 13 13 14 14 14 14 15\n",
            " 15 15 16 16 17 17 17 18 18 18 18 19 19 19 20 20 20 20 20 22 23 24 24 24\n",
            " 24 25]\n",
            "Dist: [  2  10   4  22  16  10  18  26  34  17  28  14  20  24  28  26  34  34\n",
            "  46  26  36  60  80  20  26  54  32  40  32  40  50  42  56  76  84  36\n",
            "  46  68  32  48  52  56  64  66  54  70  92  93 120  85]\n"
          ]
        }
      ]
    },
    {
      "cell_type": "code",
      "metadata": {
        "colab": {
          "base_uri": "https://localhost:8080/",
          "height": 497
        },
        "id": "EQJLyFjy1anM",
        "outputId": "4e963cda-67a9-4013-8992-279c3d7cc3a1"
      },
      "source": [
        "# we can now use our visualizing tools to plot the data\n",
        "bplot= sns.scatterplot(x = 'speed', y = 'dist',data=cars)   # define the type of plot\n",
        "\n",
        "bplot.axes.set_title(\"speed vs dist: Scatter Plot\", fontsize=16)  # set the title\n",
        "\n",
        "bplot.set_ylabel(\"Distances taken to stop (feet)\", fontsize=16)  # set the x label\n",
        "\n",
        "bplot.set_xlabel(\"Speed (mph)\", fontsize=16)  # set the y label"
      ],
      "execution_count": null,
      "outputs": [
        {
          "output_type": "execute_result",
          "data": {
            "text/plain": [
              "Text(0.5, 0, 'Speed (mph)')"
            ]
          },
          "metadata": {},
          "execution_count": 66
        },
        {
          "output_type": "display_data",
          "data": {
            "text/plain": [
              "<Figure size 640x480 with 1 Axes>"
            ],
            "image/png": "[encoded data removed]"
          },
          "metadata": {}
        }
      ]
    }
  ]
}