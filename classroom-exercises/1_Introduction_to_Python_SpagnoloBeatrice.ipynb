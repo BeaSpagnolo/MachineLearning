{
  "nbformat": 4,
  "nbformat_minor": 0,
  "metadata": {
    "kernelspec": {
      "display_name": "Python 3",
      "language": "python",
      "name": "python3"
    },
    "language_info": {
      "codemirror_mode": {
        "name": "ipython",
        "version": 3
      },
      "file_extension": ".py",
      "mimetype": "text/x-python",
      "name": "python",
      "nbconvert_exporter": "python",
      "pygments_lexer": "ipython3",
      "version": "3.8.5"
    },
    "colab": {
      "provenance": []
    }
  },
  "cells": [
    {
      "cell_type": "markdown",
      "metadata": {
        "id": "sIKepAeRIP_-"
      },
      "source": [
        "Welcome to the **Machine Learning** course. <br>\n",
        "In this introductory Jupyter Notebook we play with *python*. <br>\n",
        "The notebook is organized in two sections: <br>\n",
        "* Basic python commands with examples;\n",
        "* Exercises.\n"
      ]
    },
    {
      "cell_type": "markdown",
      "source": [
        "By default, python is already installed in Google Colab Notebook and can be used directly. <br>\n",
        "However, we will install and utilize a specific version (python 3.10) to ensure consistency of results across the different Colab machines."
      ],
      "metadata": {
        "id": "DPve-gf2TNqV"
      }
    },
    {
      "cell_type": "code",
      "source": [
        "# install python at version 3.10\n",
        "!apt-get install python3.10"
      ],
      "metadata": {
        "id": "w1eWafhoTRRS"
      },
      "execution_count": null,
      "outputs": []
    },
    {
      "cell_type": "code",
      "source": [
        "# update symbolic links to the newly installed python version\n",
        "!ln -sf /usr/bin/python3.10 /usr/bin/python\n",
        "!ln -sf /usr/bin/python3.10 /usr/bin/python3"
      ],
      "metadata": {
        "id": "I8eVRRe4TTpb"
      },
      "execution_count": null,
      "outputs": []
    },
    {
      "cell_type": "code",
      "source": [
        "# check version\n",
        "!python -V"
      ],
      "metadata": {
        "id": "FQPJbNiZTXK9"
      },
      "execution_count": null,
      "outputs": []
    },
    {
      "cell_type": "markdown",
      "metadata": {
        "id": "iuI7URqVIQAA"
      },
      "source": [
        "# Part 1: Recap of Python Foundamentals (can be skipped)"
      ]
    },
    {
      "cell_type": "markdown",
      "metadata": {
        "id": "NHM3b2RLIQAA"
      },
      "source": [
        "We first talk about python variable definitions. <br>\n",
        "Python is smart, and the variable definition is pretty easy. <br>\n",
        "Moreover, you don't need to specify the variable type since Python uses *dynamic typing*, i.e., it infers the type of the variables you are using."
      ]
    },
    {
      "cell_type": "code",
      "metadata": {
        "id": "v8qrtImwIQAA",
        "colab": {
          "base_uri": "https://localhost:8080/"
        },
        "outputId": "207b171f-801d-4cf1-df53-7233baba3514"
      },
      "source": [
        "a = 10 #this is an integer\n",
        "b = 1.1 #this is a float\n",
        "c = True #this is a boolean\n",
        "a = \"hello\" #now a is a string\n",
        "\n",
        "print(a, b, c)"
      ],
      "execution_count": null,
      "outputs": [
        {
          "output_type": "stream",
          "name": "stdout",
          "text": [
            "hello 1.1 True\n"
          ]
        }
      ]
    },
    {
      "cell_type": "code",
      "metadata": {
        "id": "DlBJcVsfsU4P",
        "colab": {
          "base_uri": "https://localhost:8080/"
        },
        "outputId": "cd70b950-2372-444a-c10b-2bf9e90240e0"
      },
      "source": [
        "# math operations\n",
        "a = 11\n",
        "b = 5\n",
        "\n",
        "print(a + b) #sum\n",
        "print(a - b) #subtraction\n",
        "print(a * b) #multiplication\n",
        "print(a / b) #division\n",
        "print(a // b) # integer division\n",
        "print(a % b) #rest of the division"
      ],
      "execution_count": null,
      "outputs": [
        {
          "output_type": "stream",
          "name": "stdout",
          "text": [
            "16\n",
            "6\n",
            "55\n",
            "2.2\n",
            "2\n",
            "1\n"
          ]
        }
      ]
    },
    {
      "cell_type": "markdown",
      "metadata": {
        "id": "mmSgiNLZIQAB"
      },
      "source": [
        "Similarly, the creation of a list is pretty straightforward.\n",
        "List items can be accessed with their index:"
      ]
    },
    {
      "cell_type": "code",
      "metadata": {
        "id": "Q4o9_PMVIQAB",
        "colab": {
          "base_uri": "https://localhost:8080/"
        },
        "outputId": "9ffc393e-fe15-4163-a279-d8ced24d47dd"
      },
      "source": [
        "e = [1, 2, 3, 4] #we create a list\n",
        "print(\"e =\", e)\n",
        "print(\"e[1] = \", e[1]) #we print the second item (remember: the indexes start from zero!)\n",
        "e[1] += 5 #increase by five the second item in our list\n",
        "print(\"e =\", e)\n",
        "print(\"len(e) = \", len(e)) #length of the list\n",
        "\n",
        "f = [] #empty list\n",
        "print(\"f = \", f)\n",
        "f.append(1) #add 1 to the empty list\n",
        "f.append(2) #add 2 to the list [1]\n",
        "print(\"f = \", f)\n",
        "\n",
        "#how to deleate the i-th element on a list?\n",
        "print(\"e = \", e)\n",
        "e.pop(2) #remove the item e[2] from e\n",
        "print(\"e = \", e)"
      ],
      "execution_count": null,
      "outputs": [
        {
          "output_type": "stream",
          "name": "stdout",
          "text": [
            "e = [1, 2, 3, 4]\n",
            "e[1] =  2\n",
            "e = [1, 7, 3, 4]\n",
            "len(e) =  4\n",
            "f =  []\n",
            "f =  [1, 2]\n",
            "e =  [1, 7, 3, 4]\n",
            "e =  [1, 7, 4]\n"
          ]
        }
      ]
    },
    {
      "cell_type": "markdown",
      "metadata": {
        "id": "cTeNLjdEIQAC"
      },
      "source": [
        "Boolean operatos are useful to test different conditions"
      ]
    },
    {
      "cell_type": "code",
      "metadata": {
        "id": "O_jUgG4DIQAC",
        "colab": {
          "base_uri": "https://localhost:8080/"
        },
        "outputId": "ede672ed-c88b-4d1e-cfa4-ca3761ded3b3"
      },
      "source": [
        "print(1 > 1)\n",
        "print(1 >= 1)\n",
        "print(1 < 2)\n",
        "print(1 == 1)\n",
        "print(1 != 1)"
      ],
      "execution_count": null,
      "outputs": [
        {
          "output_type": "stream",
          "name": "stdout",
          "text": [
            "False\n",
            "True\n",
            "True\n",
            "True\n",
            "False\n"
          ]
        }
      ]
    },
    {
      "cell_type": "markdown",
      "metadata": {
        "id": "-c4VlkLcIQAD"
      },
      "source": [
        "Besides variables, we might use different commands in our programs: <br>\n",
        "* if-else statements\n",
        "* while loops\n",
        "* for loops"
      ]
    },
    {
      "cell_type": "code",
      "metadata": {
        "id": "zq8wz5RUIQAD",
        "colab": {
          "base_uri": "https://localhost:8080/"
        },
        "outputId": "c68cb0ae-8b00-4bd2-985f-3752336f7ace"
      },
      "source": [
        "# here we want to print, between variables a and b, which has the greater value\n",
        "a = 1\n",
        "b = 2\n",
        "if a > b:\n",
        "    print(a)\n",
        "else:\n",
        "    print(b)"
      ],
      "execution_count": null,
      "outputs": [
        {
          "output_type": "stream",
          "name": "stdout",
          "text": [
            "2\n"
          ]
        }
      ]
    },
    {
      "cell_type": "code",
      "metadata": {
        "id": "POpXccYeIQAE",
        "colab": {
          "base_uri": "https://localhost:8080/"
        },
        "outputId": "6e4e3f22-db37-4af5-b0fe-e26f7462d809"
      },
      "source": [
        "#we want to understand if the value in the variable a is contained in the range [0, 10]\n",
        "a = 10\n",
        "\n",
        "if a < 0:\n",
        "    print(\"Lower\")\n",
        "elif a > 10:\n",
        "    print(\"Higher\")\n",
        "else:\n",
        "    print(\"Inside\")\n"
      ],
      "execution_count": null,
      "outputs": [
        {
          "output_type": "stream",
          "name": "stdout",
          "text": [
            "Inside\n"
          ]
        }
      ]
    },
    {
      "cell_type": "code",
      "metadata": {
        "id": "8CIrVj13IQAE",
        "colab": {
          "base_uri": "https://localhost:8080/"
        },
        "outputId": "4b27c224-0d2f-4df3-8f2b-38cdd1c01321"
      },
      "source": [
        "#while loop example: print numbers from 1 to 10\n",
        "idx = 1\n",
        "while(idx <= 10):\n",
        "    print(idx)\n",
        "    idx += 1 #increase the index by one"
      ],
      "execution_count": null,
      "outputs": [
        {
          "output_type": "stream",
          "name": "stdout",
          "text": [
            "1\n",
            "2\n",
            "3\n",
            "4\n",
            "5\n",
            "6\n",
            "7\n",
            "8\n",
            "9\n",
            "10\n"
          ]
        }
      ]
    },
    {
      "cell_type": "code",
      "metadata": {
        "id": "eyICoCcCIQAE",
        "colab": {
          "base_uri": "https://localhost:8080/"
        },
        "outputId": "9cb9a87d-e1ca-4db0-f4f7-f818839fe4d7"
      },
      "source": [
        "# we might want to print all of the items inside a list\n",
        "# -->len(a) returns the number of items in the list a;\n",
        "# -->range(x) returns a list of numbers from 0 to x (not included)\n",
        "\n",
        "a = [10, 1, 7, 19]\n",
        "for idx in range(len(a)):\n",
        "    print(a[idx])\n",
        "\n",
        "# if we want to print the elements of the list on the same row, we can use the following variant of the print() command.\n",
        "# Normally print() moves to the next row after printing its argument. We can change that behaviour using the parameter end=\"\", for example\n",
        "print(\"let's print the elements of the list on one row\")\n",
        "for idx in range(len(a)):\n",
        "    print(a[idx], end=\", \")\n"
      ],
      "execution_count": null,
      "outputs": [
        {
          "output_type": "stream",
          "name": "stdout",
          "text": [
            "10\n",
            "1\n",
            "7\n",
            "19\n",
            "let's print the elements of the list on one row\n",
            "10, 1, 7, 19, "
          ]
        }
      ]
    },
    {
      "cell_type": "markdown",
      "metadata": {
        "id": "YpNVxC7xIQAE"
      },
      "source": [
        "We (Computer scientists) like to reuse our code. So it is very useful to write functions that we can reuse in future. <br>\n",
        "For example, we can define a function as follows:"
      ]
    },
    {
      "cell_type": "code",
      "metadata": {
        "id": "ubL6H1E4IQAE",
        "colab": {
          "base_uri": "https://localhost:8080/"
        },
        "outputId": "24cd7ba1-9206-49f5-a619-82db937e11a5"
      },
      "source": [
        "def sum(a, b):   # the function accepts two numbers, and it returns their sum\n",
        "    return a + b # the function returns an integer\n",
        "\n",
        "print(sum(10, 2))\n",
        "somma = sum(10, 2.1)\n",
        "print(somma)"
      ],
      "execution_count": null,
      "outputs": [
        {
          "output_type": "stream",
          "name": "stdout",
          "text": [
            "12\n",
            "12.1\n"
          ]
        }
      ]
    },
    {
      "cell_type": "markdown",
      "metadata": {
        "id": "hw5DsJx8IQAF"
      },
      "source": [
        "# Part 2: Excercises"
      ]
    },
    {
      "cell_type": "markdown",
      "metadata": {
        "id": "IsGNoVmZIQAF"
      },
      "source": [
        "### Ex 2.1:  Graduation converter\n",
        "\n",
        "A teacher is evaluating his kids with grades define between 1 and 10, where 1 is the minimum and 10 the maximum score. <br>\n",
        "Before inserting a grade on the electronic register, the teacher needs to convert it on the following scale:\n",
        "* $\\leq 3$ -> Completely Insufficient;\n",
        "* $[4, 5]$ -> Insufficient;\n",
        "* $[6, 8]$ -> Sufficient;\n",
        "* $\\geq 9$ -> Excellent.\n",
        "\n",
        "For example, given the following grades: 6, 3, your function should return : Sufficient, Completely Insufficient. <br><br>\n",
        "**EX 2.1.1** Write a function *grades_converter()* that, given one integer  returns the corresponding textual grade. <br>\n",
        "Example: *grades_converter*$(6)\\rightarrow$ Sufficient<br>"
      ]
    },
    {
      "cell_type": "code",
      "metadata": {
        "id": "w80TTQQg5WBO",
        "colab": {
          "base_uri": "https://localhost:8080/"
        },
        "outputId": "3af8b2bd-609d-4ffe-be4f-fb54e7d25f46"
      },
      "source": [
        "#\n",
        "#   complete EX 2.1.1 here\n",
        "#\n",
        "\n",
        "def grades_converter(n):\n",
        "  if n<=3:\n",
        "    ris = \"Completely Insufficient\"\n",
        "    return ris\n",
        "  elif n<=5:\n",
        "    ris = \"Insufficient\"\n",
        "    return ris\n",
        "  elif n<=8:\n",
        "    ris = \"Sufficient\"\n",
        "    return ris\n",
        "  else:\n",
        "    ris = \"Excellent\"\n",
        "    return ris\n",
        "\n",
        "#\n",
        "#   end of EX 2.1.1. Do not modify the command below\n",
        "#\n",
        "\n",
        "print(grades_converter(6))"
      ],
      "execution_count": null,
      "outputs": [
        {
          "output_type": "stream",
          "name": "stdout",
          "text": [
            "Sufficient\n"
          ]
        }
      ]
    },
    {
      "cell_type": "markdown",
      "metadata": {
        "id": "oKP22V2shrf5"
      },
      "source": [
        "**EX 2.1.2** Complete the box below with a set of commands (a script) that, given a list of integers in the range $[1, 10]$, prints the corresponding textual grade for each of them. <br>"
      ]
    },
    {
      "cell_type": "code",
      "metadata": {
        "id": "L8uWtyRiIQAF",
        "colab": {
          "base_uri": "https://localhost:8080/"
        },
        "outputId": "21cbaa70-a1bc-4309-eaed-869feea6acfc"
      },
      "source": [
        "# You can (you should) reuse the function coded for exercise 2.1.1\n",
        "\n",
        "student_gradings = [3, 4, 10, 6, 6, 7]\n",
        "\n",
        "#\n",
        "#   complete here EX 2.1.2\n",
        "#\n",
        "\n",
        "for x in student_gradings:\n",
        "  print(grades_convert(x))\n",
        "\n",
        "#\n",
        "#   end of EX 2.1.2\n",
        "#\n",
        "# Expected output when printing the list:\n",
        "# ['Completely Insufficient', 'Insufficient', 'Excellent', 'Sufficient', 'Sufficient', 'Sufficient']\n"
      ],
      "execution_count": null,
      "outputs": [
        {
          "output_type": "stream",
          "name": "stdout",
          "text": [
            "Completely Insufficient\n",
            "Insufficient\n",
            "Excellent\n",
            "Sufficient\n",
            "Sufficient\n",
            "Sufficient\n"
          ]
        }
      ]
    },
    {
      "cell_type": "markdown",
      "metadata": {
        "id": "n-bd6AoBIQAF"
      },
      "source": [
        "\n",
        "\n",
        "---\n",
        "\n",
        "\n",
        "Sometimes it is also useful to use **dictionaries**. <br>\n",
        "Dictionaries are used to store data values in key:value pairs. <br>\n",
        "Dictionaries extend lists by allowing to access its elements by a generic \"key\" identifier (as opposed to their numerical position). <br>\n",
        "For a more in depth overview, see <link>https://www.w3schools.com/python/python_dictionaries.asp</link>."
      ]
    },
    {
      "cell_type": "code",
      "metadata": {
        "id": "d1xSfmetIQAF",
        "colab": {
          "base_uri": "https://localhost:8080/"
        },
        "outputId": "ff9ac4af-540e-4bff-e6a6-7a67af8f961b"
      },
      "source": [
        "#define a dictionary\n",
        "ex = {\n",
        "    \"key1\": 10,\n",
        "    \"key2\": 2\n",
        "}\n",
        "print(\"ex = \", ex) #print the entire dictionary\n",
        "print(\"len(ex) = \", len(ex)) #print the number of items contained in the dictionary\n",
        "print(ex.keys()) #print all the keys\n",
        "print(ex.values()) #print all the values\n",
        "ex[\"key1\"] = 11 #update a value\n",
        "ex[\"key2\"] +=1 #update a value\n",
        "ex[\"key3\"] = 5 #insert a new value\n",
        "print(ex)\n",
        "del ex[\"key1\"] #remove \"key1\" key-value pair\n",
        "print(\"ex after deleting key1 = \", ex)\n",
        "\n",
        "#the keys can also be integers\n",
        "ex2 = {\n",
        "    2: \"Hello\",\n",
        "    3: \"World\"\n",
        "}\n",
        "print(ex2[2])\n",
        "\n",
        "#here some examples on how to loop inside dictionaries\n",
        "print(\"Loop example 1\")\n",
        "for key in ex.keys():\n",
        "    print(key, ex[key])\n",
        "\n",
        "print(\"Loop example 2\")\n",
        "#we can also loop among the dictionary pairs <key, values>\n",
        "for key, value in ex.items():\n",
        "    print(key, value)"
      ],
      "execution_count": null,
      "outputs": [
        {
          "output_type": "stream",
          "name": "stdout",
          "text": [
            "ex =  {'key1': 10, 'key2': 2}\n",
            "len(ex) =  2\n",
            "dict_keys(['key1', 'key2'])\n",
            "dict_values([10, 2])\n",
            "{'key1': 11, 'key2': 3, 'key3': 5}\n",
            "ex after deleting key1 =  {'key2': 3, 'key3': 5}\n",
            "Hello\n",
            "Loop example 1\n",
            "key2 3\n",
            "key3 5\n",
            "Loop example 2\n",
            "key2 3\n",
            "key3 5\n"
          ]
        }
      ]
    },
    {
      "cell_type": "markdown",
      "metadata": {
        "id": "JwcWOIisIQAG"
      },
      "source": [
        "We now ask you to update the script you previously wrote.\n",
        "In particular, the teacher has a dictionary that contains student name - grading. <br>\n",
        "**EX 2.1.3** Write a script that converts the numerical grades into their textual representation.\n",
        "\n",
        "For example, given the following dictionary:\n",
        "\n",
        "        ex_dict = {\n",
        "            \"Adam\": 8,\n",
        "            \"John\": 5,\n",
        "        }\n",
        "\n",
        "We expect the following result:\n",
        "\n",
        "        ex_dict = {\n",
        "            \"Adam\": \"Sufficient\",\n",
        "            \"John\": \"Insufficient\",\n",
        "        }\n",
        "\n"
      ]
    },
    {
      "cell_type": "code",
      "metadata": {
        "id": "9YykL_YMIQAG",
        "colab": {
          "base_uri": "https://localhost:8080/"
        },
        "outputId": "34933b64-edd9-4bd0-d58a-b70a261683c3"
      },
      "source": [
        "student_gradings_dict = {\n",
        "    \"Adam\": 8,\n",
        "    \"John\": 5,\n",
        "    \"Sasha\": 9,\n",
        "    \"Billy\": 3\n",
        "}\n",
        "\n",
        "#\n",
        "#   complete here EX 2.1.3\n",
        "#\n",
        "\n",
        "for k in student_gradings_dict.keys():\n",
        "    student_gradings_dict[k] = grades_converter(student_gradings_dict[k])\n",
        "\n",
        "#\n",
        "#   end of EX 2.1.3.\n",
        "#\n",
        "\n",
        "print(student_gradings_dict)\n"
      ],
      "execution_count": null,
      "outputs": [
        {
          "output_type": "stream",
          "name": "stdout",
          "text": [
            "{'Adam': 'Sufficient', 'John': 'Insufficient', 'Sasha': 'Excellent', 'Billy': 'Completely Insufficient'}\n"
          ]
        }
      ]
    },
    {
      "cell_type": "markdown",
      "metadata": {
        "id": "Y-7-M8HSIQAG"
      },
      "source": [
        "## Ex 2.2 Multiplication Time\n",
        "\n",
        "**EX 2.2.1** Write a function *times_table* that calculates the times table of the given number and returns it as a list. <br>\n",
        "In particular, the function should accept two parameters:\n",
        "* base\n",
        "* size (of the output list)\n",
        "\n",
        "and creates a list with *size* numbers: 0\\*base, 1\\*base, 2\\*base,...\n",
        "\n",
        "For example *times_table*$(2, 4)$, should return a list with the following items:\n",
        "$[0, 2, 4, 6]$."
      ]
    },
    {
      "cell_type": "code",
      "metadata": {
        "id": "AWsS9yYCIQAG",
        "colab": {
          "base_uri": "https://localhost:8080/"
        },
        "outputId": "89d453e9-a523-4900-f279-c58d6f07e8ff"
      },
      "source": [
        "#\n",
        "#   complete here EX 2.2.1\n",
        "#\n",
        "\n",
        "def times_table(base, size):\n",
        "  l = []\n",
        "  for x in range(0,size):\n",
        "    l.append(x*base)\n",
        "  print(l)\n",
        "\n",
        "#\n",
        "#  end of EX 2.2.1\n",
        "#\n",
        "\n",
        "times_table(3, 5)"
      ],
      "execution_count": null,
      "outputs": [
        {
          "output_type": "stream",
          "name": "stdout",
          "text": [
            "[0, 3, 6, 9, 12]\n"
          ]
        }
      ]
    },
    {
      "cell_type": "markdown",
      "metadata": {
        "id": "KGu1UKHIlpAo"
      },
      "source": [
        "**EX 2.2.2** Write a function that, given a positive integer x, prints the first 10 elements of the times table of all numbers lower or equal than x. <br>\n",
        "For example f(3) outputs\n",
        "\n",
        "    1 2 3 4 5 6 7 8 9 10\n",
        "    2 4 6 8 10 12 14 16 18 20\n",
        "    3 6 9 12 15 18 21 24 27 30\n"
      ]
    },
    {
      "cell_type": "code",
      "metadata": {
        "id": "gsNvvM3WmgG7"
      },
      "source": [
        "#\n",
        "# EX 2.2.2 write your code here\n",
        "#\n",
        "\n",
        "#\n",
        "# end of EX 2.2.2\n",
        "#\n",
        "multiple_times_tables(3)\n",
        "# Expected output\n",
        "#[1, 2, 3, 4, 5, 6, 7, 8, 9, 10]\n",
        "#[2, 4, 6, 8, 10, 12, 14, 16, 18, 20]\n",
        "#[3, 6, 9, 12, 15, 18, 21, 24, 27, 30]"
      ],
      "execution_count": null,
      "outputs": []
    },
    {
      "cell_type": "markdown",
      "metadata": {
        "id": "FWIm6kS0IQAG"
      },
      "source": [
        "## Ex 2.3 Prime Day\n",
        "\n",
        "**EX 2.3.1** Write a function that, given a positive integer, returns True if it is a prime number, False otherwise. A number is prime if it is only divisible by itself and 1. Here we assume $1$ is a prime number.\n"
      ]
    },
    {
      "cell_type": "code",
      "metadata": {
        "id": "rB4B2Kl0IQAG"
      },
      "source": [
        "#\n",
        "#   complete here EX 2.3.1\n",
        "#\n",
        "\n",
        "\n",
        "#\n",
        "# end of EX 2.3.1\n",
        "#\n",
        "\n",
        "print(is_prime(1), is_prime(3), is_prime(4), is_prime(5))\n",
        "print(is_prime2(1), is_prime2(3), is_prime2(4), is_prime2(5))\n",
        "\n",
        "#Expected output\n",
        "#True True False True\n",
        "#True True False True"
      ],
      "execution_count": null,
      "outputs": []
    },
    {
      "cell_type": "markdown",
      "metadata": {
        "id": "kiLlYL-7oIkH"
      },
      "source": [
        "**EX 2.3.2** Write a function *n_prime* that, given a number $i$, returns the $i-th$ prime number.  <br>\n",
        "For example:\n",
        "* *n_prime*$(1) = 1$\n",
        "* *n_prime*$(2) = 2$\n",
        "* *n_prime*$(3) = 3$\n",
        "* *n_prime*$(5) = 7$\n"
      ]
    },
    {
      "cell_type": "code",
      "metadata": {
        "id": "2eK6ncRuoIC0",
        "colab": {
          "base_uri": "https://localhost:8080/"
        },
        "outputId": "8d8a0525-48b6-4f3c-ba1f-e9486f03eef1"
      },
      "source": [
        "#\n",
        "# complete EX 2.3.2 here\n",
        "#\n",
        "\n",
        "def is_prime(n):\n",
        "  for i in range(2, int(n**0.5)+1):\n",
        "    if n % i == 0:\n",
        "      return False\n",
        "  return True\n",
        "\n",
        "\n",
        "def n_prime(n):\n",
        "  count = 1\n",
        "  num = 1\n",
        "  while count<n:\n",
        "    num += 1\n",
        "    if (is_prime(num)):\n",
        "      count += 1\n",
        "  return num\n",
        "\n",
        "#\n",
        "# end of EX 2.3.2\n",
        "#\n",
        "\n",
        "n_prime(18)"
      ],
      "execution_count": null,
      "outputs": [
        {
          "output_type": "execute_result",
          "data": {
            "text/plain": [
              "59"
            ]
          },
          "metadata": {},
          "execution_count": 27
        }
      ]
    }
  ]
}