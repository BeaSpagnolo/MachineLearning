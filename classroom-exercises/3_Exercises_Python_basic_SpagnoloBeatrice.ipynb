{
  "nbformat": 4,
  "nbformat_minor": 0,
  "metadata": {
    "colab": {
      "provenance": []
    },
    "kernelspec": {
      "name": "python3",
      "display_name": "Python 3"
    },
    "language_info": {
      "name": "python"
    }
  },
  "cells": [
    {
      "cell_type": "markdown",
      "source": [
        "# INTRODUCTION TO PYTHON\n",
        "Homework 19/10/2023"
      ],
      "metadata": {
        "id": "B_zAb9FTIwSb"
      }
    },
    {
      "cell_type": "code",
      "source": [
        "# we will install and utilize a specific version (python 3.10)\n",
        "\n",
        "# install python at version 3.10\n",
        "!apt-get install python3.10\n",
        "\n",
        "# update symbolic links to the newly installed python version\n",
        "!ln -sf /usr/bin/python3.10 /usr/bin/python\n",
        "!ln -sf /usr/bin/python3.10 /usr/bin/python3\n",
        "\n",
        "# check version\n",
        "!python -V"
      ],
      "metadata": {
        "id": "w1eWafhoTRRS",
        "colab": {
          "base_uri": "https://localhost:8080/"
        },
        "outputId": "e4647d67-01cf-4a9f-bc65-8e41daeda81a"
      },
      "execution_count": null,
      "outputs": [
        {
          "output_type": "stream",
          "name": "stdout",
          "text": [
            "Reading package lists... Done\n",
            "Building dependency tree... Done\n",
            "Reading state information... Done\n",
            "python3.10 is already the newest version (3.10.12-1~22.04.2).\n",
            "0 upgraded, 0 newly installed, 0 to remove and 18 not upgraded.\n",
            "Python 3.10.12\n"
          ]
        }
      ]
    },
    {
      "cell_type": "markdown",
      "source": [
        "## Part 1: Recap of Python Foundamentals\n",
        "Non serve specificare il tipo della variabile."
      ],
      "metadata": {
        "id": "r8KXMgJvHrdV"
      }
    },
    {
      "cell_type": "code",
      "metadata": {
        "id": "eyICoCcCIQAE",
        "colab": {
          "base_uri": "https://localhost:8080/"
        },
        "outputId": "f311d5fa-cc04-4259-9e69-503c044468e2"
      },
      "source": [
        "# STAMPARE TUTTI GLI ELEMENTI DELLA LISTA\n",
        "\n",
        "# -->len(a) returns the number of items in the list a\n",
        "# -->range(x) returns a list of numbers from 0 to x (not included)\n",
        "\n",
        "a = [10, 1, 7, 19]\n",
        "for idx in range(len(a)):\n",
        "    print(a[idx])"
      ],
      "execution_count": null,
      "outputs": [
        {
          "output_type": "stream",
          "name": "stdout",
          "text": [
            "10\n",
            "1\n",
            "7\n",
            "19\n"
          ]
        }
      ]
    },
    {
      "cell_type": "code",
      "source": [
        "# STAMPARE GLI ELEMENTI DELLA LISTA NELLA STESSA FILA\n",
        "\n",
        "# print() with parameter end=\"\" per modificare il normale comportamento di print (ossia che finito la stampa si sposta alla riga successiva)\n",
        "print(\"let's print the elements of the list on one row\")\n",
        "for idx in range(len(a)):\n",
        "    print(a[idx], end=\", \")"
      ],
      "metadata": {
        "id": "_syNGQzfMMQV",
        "colab": {
          "base_uri": "https://localhost:8080/"
        },
        "outputId": "3526c6b9-3b05-42fb-c988-a566795ff2b2"
      },
      "execution_count": null,
      "outputs": [
        {
          "output_type": "stream",
          "name": "stdout",
          "text": [
            "let's print the elements of the list on one row\n",
            "10, 1, 7, 19, "
          ]
        }
      ]
    },
    {
      "cell_type": "markdown",
      "metadata": {
        "id": "hw5DsJx8IQAF"
      },
      "source": [
        "## Part 2: Excercises"
      ]
    },
    {
      "cell_type": "markdown",
      "metadata": {
        "id": "IsGNoVmZIQAF"
      },
      "source": [
        "### Ex 2.1:  Graduation converter\n",
        "\n",
        "A teacher is evaluating his kids with grades define between 1 and 10, where 1 is the minimum and 10 the maximum score. <br>\n",
        "Before inserting a grade on the electronic register, the teacher needs to convert it on the following scale:\n",
        "* $\\leq 3$ -> Completely Insufficient;\n",
        "* $[4, 5]$ -> Insufficient;\n",
        "* $[6, 8]$ -> Sufficient;\n",
        "* $\\geq 9$ -> Excellent.\n",
        "\n",
        "For example, given the following grades: 6, 3, your function should return : Sufficient, Completely Insufficient. <br><br>\n",
        "**EX 2.1.1** Write a function *grades_converter()* that, given one integer  returns the corresponding textual grade. <br>\n",
        "Example: *grades_converter*$(6)\\rightarrow$ Sufficient<br>"
      ]
    },
    {
      "cell_type": "code",
      "metadata": {
        "id": "w80TTQQg5WBO",
        "colab": {
          "base_uri": "https://localhost:8080/"
        },
        "outputId": "d37d3094-0891-4383-8214-62cc12f9f7f1"
      },
      "source": [
        "#\n",
        "#   complete EX 2.1.1 here\n",
        "#\n",
        "\n",
        "def grades_converter(n):\n",
        "  if n<=3:\n",
        "    ris = \"Completely Insufficient\"\n",
        "  elif n<=5:\n",
        "    ris = \"Insufficient\"\n",
        "  elif n<=8:\n",
        "    ris = \"Sufficient\"\n",
        "  else:\n",
        "    ris = \"Excellent\"\n",
        "  return ris\n",
        "\n",
        "#\n",
        "#   end of EX 2.1.1. Do not modify the command below\n",
        "#\n",
        "\n",
        "print(grades_converter(6))"
      ],
      "execution_count": null,
      "outputs": [
        {
          "output_type": "stream",
          "name": "stdout",
          "text": [
            "Sufficient\n"
          ]
        }
      ]
    },
    {
      "cell_type": "markdown",
      "metadata": {
        "id": "oKP22V2shrf5"
      },
      "source": [
        "**EX 2.1.2** Complete the box below with a set of commands (a script) that, given a list of integers in the range $[1, 10]$, prints the corresponding textual grade for each of them. <br>"
      ]
    },
    {
      "cell_type": "code",
      "metadata": {
        "id": "L8uWtyRiIQAF",
        "colab": {
          "base_uri": "https://localhost:8080/"
        },
        "outputId": "d787669e-e30a-46c8-9e5c-99a7e7c5195b"
      },
      "source": [
        "from typing_extensions import final\n",
        "# You can (you should) reuse the function coded for exercise 2.1.1\n",
        "\n",
        "student_gradings = [3, 4, 10, 6, 6, 7]\n",
        "\n",
        "#\n",
        "#   complete here EX 2.1.2\n",
        "#\n",
        "\n",
        "# for - loop solution 1\n",
        "final_list1 = []\n",
        "for idx in range(len(student_gradings)):\n",
        "    final_list1.append(grades_converter(student_gradings[idx]))\n",
        "print(final_list1)\n",
        "\n",
        "\n",
        "# for - loop solution 2\n",
        "final_list2 = []\n",
        "for x in student_gradings:\n",
        "  final_list2.append(grades_converter(x))\n",
        "print(final_list2)\n",
        "\n",
        "\n",
        "# for - loop solution 3 -- compact version\n",
        "final_list3 = [grades_converter(score) for score in student_gradings]\n",
        "print(final_list3)\n",
        "\n",
        "\n",
        "#\n",
        "#   end of EX 2.1.2\n",
        "#\n",
        "# Expected output when printing the list:\n",
        "# ['Completely Insufficient', 'Insufficient', 'Excellent', 'Sufficient', 'Sufficient', 'Sufficient']\n"
      ],
      "execution_count": null,
      "outputs": [
        {
          "output_type": "stream",
          "name": "stdout",
          "text": [
            "['Completely Insufficient', 'Insufficient', 'Excellent', 'Sufficient', 'Sufficient', 'Sufficient']\n",
            "['Completely Insufficient', 'Insufficient', 'Excellent', 'Sufficient', 'Sufficient', 'Sufficient']\n",
            "['Completely Insufficient', 'Insufficient', 'Excellent', 'Sufficient', 'Sufficient', 'Sufficient']\n"
          ]
        }
      ]
    },
    {
      "cell_type": "markdown",
      "metadata": {
        "id": "JwcWOIisIQAG"
      },
      "source": [
        "**EX 2.1.3** Dictionaries\n",
        "Write a script that converts the numerical grades into their textual representation.\n",
        "\n",
        "For example, given the following dictionary:\n",
        "\n",
        "        ex_dict = {\n",
        "            \"Adam\": 8,\n",
        "            \"John\": 5,\n",
        "        }\n",
        "\n",
        "We expect the following result:\n",
        "\n",
        "        ex_dict = {\n",
        "            \"Adam\": \"Sufficient\",\n",
        "            \"John\": \"Insufficient\",\n",
        "        }\n",
        "\n"
      ]
    },
    {
      "cell_type": "code",
      "metadata": {
        "id": "9YykL_YMIQAG",
        "colab": {
          "base_uri": "https://localhost:8080/"
        },
        "outputId": "0780b4b8-0916-493f-af41-d5154b4baa4f"
      },
      "source": [
        "#\n",
        "#   complete here EX 2.1.3\n",
        "#\n",
        "\n",
        "# solution 1: iterate over the keys\n",
        "student_gradings_dict = {\n",
        "    \"Adam\": 8,\n",
        "    \"John\": 5,\n",
        "    \"Sasha\": 9,\n",
        "    \"Billy\": 3\n",
        "}\n",
        "\n",
        "for k in student_gradings_dict.keys(): #iteration over the keys\n",
        "    #assignment\n",
        "    student_gradings_dict[k] = grades_converter(student_gradings_dict[k])\n",
        "\n",
        "print(student_gradings_dict)\n",
        "\n",
        "\n",
        "# solution 2: using items()\n",
        "student_gradings_dict = {\n",
        "    \"Adam\": 8,\n",
        "    \"John\": 5,\n",
        "    \"Sasha\": 9,\n",
        "    \"Billy\": 3\n",
        "}\n",
        "\n",
        "for name, grade in student_gradings_dict.items(): #iteration over the keys\n",
        "  student_gradings_dict[name] = grades_converter(grade)\n",
        "\n",
        "print(student_gradings_dict)"
      ],
      "execution_count": null,
      "outputs": [
        {
          "output_type": "stream",
          "name": "stdout",
          "text": [
            "{'Adam': 'Sufficient', 'John': 'Insufficient', 'Sasha': 'Excellent', 'Billy': 'Completely Insufficient'}\n",
            "{'Adam': 'Sufficient', 'John': 'Insufficient', 'Sasha': 'Excellent', 'Billy': 'Completely Insufficient'}\n"
          ]
        }
      ]
    },
    {
      "cell_type": "markdown",
      "metadata": {
        "id": "Y-7-M8HSIQAG"
      },
      "source": [
        "## Ex 2.2 Multiplication Time\n",
        "\n",
        "**EX 2.2.1** Write a function *times_table* that calculates the times table of the given number and returns it as a list. <br>\n",
        "In particular, the function should accept two parameters:\n",
        "* base\n",
        "* size (of the output list)\n",
        "\n",
        "and creates a list with *size* numbers: 0\\*base, 1\\*base, 2\\*base,...\n",
        "\n",
        "For example *times_table*$(2, 4)$, should return a list with the following items:\n",
        "$[0, 2, 4, 6]$."
      ]
    },
    {
      "cell_type": "code",
      "metadata": {
        "id": "AWsS9yYCIQAG",
        "colab": {
          "base_uri": "https://localhost:8080/"
        },
        "outputId": "d28ff8ba-8186-4f6e-fe83-56e4132c60ac"
      },
      "source": [
        "# function definition\n",
        "def times_table(base, size):\n",
        "  result = []   # define an empty list\n",
        "  for x in range(size):  # we can iterate over a range [0, ..., size]\n",
        "    result.append(x*base)\n",
        "  print(result)\n",
        "\n",
        "times_table(3, 5)"
      ],
      "execution_count": null,
      "outputs": [
        {
          "output_type": "stream",
          "name": "stdout",
          "text": [
            "[0, 3, 6, 9, 12]\n"
          ]
        }
      ]
    },
    {
      "cell_type": "markdown",
      "metadata": {
        "id": "KGu1UKHIlpAo"
      },
      "source": [
        "**EX 2.2.2** Write a function that, given a positive integer x, prints the first 10 elements of the times table of all numbers lower or equal than x. <br>\n",
        "For example f(3) outputs\n",
        "\n",
        "    1 2 3 4 5 6 7 8 9 10\n",
        "    2 4 6 8 10 12 14 16 18 20\n",
        "    3 6 9 12 15 18 21 24 27 30\n"
      ]
    },
    {
      "cell_type": "code",
      "metadata": {
        "id": "gsNvvM3WmgG7",
        "colab": {
          "base_uri": "https://localhost:8080/"
        },
        "outputId": "4526406b-5bdc-4023-95d7-b0980424f214"
      },
      "source": [
        "#\n",
        "# EX 2.2.2 write your code here\n",
        "#\n",
        "\n",
        "def times_table_v2(base, times):\n",
        "    result = [] #define an empty list\n",
        "\n",
        "    #we can iterate over a range [0, ..., times]\n",
        "    # ... and the for loop is perfect for that!\n",
        "    for i in range(times): # i in [0, times[\n",
        "        result.append(base * (i + 1)) ##<--- i + 1 to avoid multiplying by 0\n",
        "    return result\n",
        "\n",
        "def multiple_times_tables(n):\n",
        "    for i in range(n):\n",
        "        print(times_table_v2(i + 1, 10))\n",
        "\n",
        "print()\n",
        "def multiple_times_tables2(n):\n",
        "    for i in range(n):\n",
        "        vect = times_table_v2(i + 1, 10)\n",
        "        for v in vect:\n",
        "            print(v, end = \" \")\n",
        "        print()\n",
        "\n",
        "#\n",
        "# end of EX 2.2.2\n",
        "#\n",
        "multiple_times_tables(3)\n",
        "multiple_times_tables2(3)"
      ],
      "execution_count": null,
      "outputs": [
        {
          "output_type": "stream",
          "name": "stdout",
          "text": [
            "\n",
            "[1, 2, 3, 4, 5, 6, 7, 8, 9, 10]\n",
            "[2, 4, 6, 8, 10, 12, 14, 16, 18, 20]\n",
            "[3, 6, 9, 12, 15, 18, 21, 24, 27, 30]\n",
            "1 2 3 4 5 6 7 8 9 10 \n",
            "2 4 6 8 10 12 14 16 18 20 \n",
            "3 6 9 12 15 18 21 24 27 30 \n"
          ]
        }
      ]
    },
    {
      "cell_type": "markdown",
      "metadata": {
        "id": "FWIm6kS0IQAG"
      },
      "source": [
        "## Ex 2.3 Prime Day\n",
        "\n",
        "**EX 2.3.1** Write a function that, given a positive integer, returns True if it is a prime number, False otherwise. A number is prime if it is only divisible by itself and 1. Here we assume $1$ is a prime number.\n"
      ]
    },
    {
      "cell_type": "code",
      "metadata": {
        "id": "rB4B2Kl0IQAG",
        "colab": {
          "base_uri": "https://localhost:8080/"
        },
        "outputId": "d062630f-2a5c-4854-ca0a-dbec0e684ce6"
      },
      "source": [
        "#\n",
        "#   complete here EX 2.3.1\n",
        "#\n",
        "\n",
        "def is_prime(n):\n",
        "    #check how many divisor we have\n",
        "    divisor_cnt = 0\n",
        "    for i in range(n):\n",
        "        if n % (i + 1) == 0:\n",
        "            divisor_cnt += 1\n",
        "\n",
        "    #if we havew only two divisors, i.e., 1 and n, the number is prime\n",
        "    result = False\n",
        "    if divisor_cnt == 2:\n",
        "        result = True\n",
        "\n",
        "    #special case for 1 ... divisor_cnt == 1\n",
        "    if n == 1:\n",
        "        result = True\n",
        "    return result\n",
        "\n",
        "# Here is an equivalent version of the function.\n",
        "def is_prime2(n):\n",
        "  for i in range(n):\n",
        "    if i > 1:\n",
        "      if n % i == 0:\n",
        "        return False # we have found another\n",
        "  return True\n",
        "\n",
        "#\n",
        "# end of EX 2.3.1\n",
        "#\n",
        "\n",
        "print(is_prime(1), is_prime(3), is_prime(4), is_prime(5))\n",
        "print(is_prime2(1), is_prime2(3), is_prime2(4), is_prime2(5))"
      ],
      "execution_count": null,
      "outputs": [
        {
          "output_type": "stream",
          "name": "stdout",
          "text": [
            "True True False True\n",
            "True True False True\n"
          ]
        }
      ]
    },
    {
      "cell_type": "markdown",
      "metadata": {
        "id": "kiLlYL-7oIkH"
      },
      "source": [
        "**EX 2.3.2** Write a function *n_prime* that, given a number $i$, returns the $i-th$ prime number.  <br>\n",
        "For example:\n",
        "* *n_prime*$(1) = 1$\n",
        "* *n_prime*$(2) = 2$\n",
        "* *n_prime*$(3) = 3$\n",
        "* *n_prime*$(5) = 7$\n"
      ]
    },
    {
      "cell_type": "code",
      "metadata": {
        "id": "2eK6ncRuoIC0",
        "colab": {
          "base_uri": "https://localhost:8080/"
        },
        "outputId": "1614d796-3a7c-4f82-8b82-a86e87f3f071"
      },
      "source": [
        "#\n",
        "# complete EX 2.3.2 here\n",
        "#\n",
        "\n",
        "def is_prime(n):\n",
        "  for i in range(2, int(n**0.5)+1):\n",
        "    if n % i == 0:\n",
        "      return False\n",
        "  return True\n",
        "\n",
        "\n",
        "def n_prime(n):\n",
        "  count = 1\n",
        "  num = 1\n",
        "  while count<n:\n",
        "    num += 1\n",
        "    if (is_prime(num)):\n",
        "      count += 1\n",
        "  return num\n",
        "\n",
        "#\n",
        "# end of EX 2.3.2\n",
        "#\n",
        "\n",
        "# SOLUZIONE 2 - del prof\n",
        "def n_prime(n):\n",
        "    cnt = 0 #count the number of primes found\n",
        "\n",
        "    candidate = 1 #starting number\n",
        "    while cnt < n:\n",
        "        if is_prime(candidate):\n",
        "            cnt +=1\n",
        "\n",
        "        candidate +=1\n",
        "\n",
        "    return candidate - 1\n",
        "\n",
        "n_prime(18)"
      ],
      "execution_count": null,
      "outputs": [
        {
          "output_type": "execute_result",
          "data": {
            "text/plain": [
              "59"
            ]
          },
          "metadata": {},
          "execution_count": 13
        }
      ]
    },
    {
      "cell_type": "markdown",
      "metadata": {
        "id": "FEYPAuooDOI8"
      },
      "source": [
        "# Lab 1: Introduction to Numpy"
      ]
    },
    {
      "cell_type": "code",
      "source": [
        "# install numpy at version 1.23.5\n",
        "%pip install numpy==1.23.5\n",
        "\n",
        "# rename numpy as np\n",
        "import numpy as np\n",
        "\n",
        "#check numpy version\n",
        "np.__version__"
      ],
      "metadata": {
        "colab": {
          "base_uri": "https://localhost:8080/",
          "height": 53
        },
        "id": "HOBscrxPBGuI",
        "outputId": "df9118d7-b5d3-45be-8ed6-9846d7090d65"
      },
      "execution_count": null,
      "outputs": [
        {
          "output_type": "stream",
          "name": "stdout",
          "text": [
            "Requirement already satisfied: numpy==1.23.5 in /usr/local/lib/python3.10/dist-packages (1.23.5)\n"
          ]
        },
        {
          "output_type": "execute_result",
          "data": {
            "text/plain": [
              "'1.23.5'"
            ],
            "application/vnd.google.colaboratory.intrinsic+json": {
              "type": "string"
            }
          },
          "metadata": {},
          "execution_count": 2
        }
      ]
    },
    {
      "cell_type": "markdown",
      "metadata": {
        "id": "-Uo0SYBgusV0"
      },
      "source": [
        "### Exercise 1: Compute the Sum\n",
        "\n",
        "1.   Define a function $f(n)$ that returns a numpy one dimension array of random numbers, where $n$ is the array size of the array.\n",
        "2.   Write a script that sums the values contained in the array (without using the numpy function sum). Print the sum and the execution time.\n",
        "3.   Use a numpy function that sums the values contained in the array. Print the execution time. Check if the function you wrote in the previous point returns the same value as the numpy function.\n",
        "\n",
        "For the points 2 and 3, execute the sum where $n = 100000$. Compare the execution time of both approaches.\n",
        "\n",
        "In our exercises, we always set the seed to 123.\n"
      ]
    },
    {
      "cell_type": "code",
      "metadata": {
        "id": "11q8jkXgurMY",
        "colab": {
          "base_uri": "https://localhost:8080/"
        },
        "outputId": "8754580d-3701-47fa-f8ee-f97723c973bc"
      },
      "source": [
        "#\n",
        "# Complete ex 1.1 here\n",
        "#\n",
        "\n",
        "def f(n):\n",
        "  np.random.seed(123)   # the randomic seed is set\n",
        "  return np.random.random(n)\n",
        "\n",
        "# prova\n",
        "print(f(5))\n",
        "\n",
        "a = f(100000)"
      ],
      "execution_count": null,
      "outputs": [
        {
          "output_type": "stream",
          "name": "stdout",
          "text": [
            "[0.69646919 0.28613933 0.22685145 0.55131477 0.71946897]\n"
          ]
        }
      ]
    },
    {
      "cell_type": "code",
      "metadata": {
        "id": "FJkhlnLCwUAG",
        "colab": {
          "base_uri": "https://localhost:8080/"
        },
        "outputId": "2dd079c9-439b-4d6f-e84b-9e7e9c0f1154"
      },
      "source": [
        "#\n",
        "# Complete ex 1.2 here\n",
        "#\n",
        "\n",
        "%%time\n",
        "\n",
        "def sums(a):\n",
        "  s = 0\n",
        "  for i in a:\n",
        "    s += i\n",
        "  return s\n",
        "\n",
        "print(sums(a))"
      ],
      "execution_count": null,
      "outputs": [
        {
          "output_type": "stream",
          "name": "stdout",
          "text": [
            "50034.14069988909\n",
            "CPU times: user 21.2 ms, sys: 0 ns, total: 21.2 ms\n",
            "Wall time: 23.3 ms\n"
          ]
        }
      ]
    },
    {
      "cell_type": "code",
      "metadata": {
        "id": "JHdh3xrBwbto",
        "colab": {
          "base_uri": "https://localhost:8080/"
        },
        "outputId": "a9ebcd82-a68b-4b50-97e6-2b9aae26c87b"
      },
      "source": [
        "#\n",
        "# Complete ex 1.3 here\n",
        "#\n",
        "\n",
        "%%time\n",
        "\n",
        "print(np.sum(a), x.sum())  # stesso output"
      ],
      "execution_count": null,
      "outputs": [
        {
          "output_type": "stream",
          "name": "stdout",
          "text": [
            "CPU times: user 3.86 ms, sys: 1.01 ms, total: 4.87 ms\n",
            "Wall time: 11 ms\n"
          ]
        },
        {
          "output_type": "execute_result",
          "data": {
            "text/plain": [
              "50034.14069988859"
            ]
          },
          "metadata": {},
          "execution_count": 31
        }
      ]
    },
    {
      "cell_type": "markdown",
      "metadata": {
        "id": "gJzR1ZilwpUp"
      },
      "source": [
        "### Exercise 2:\n",
        "\n",
        "Write a numpy program to compute the sum of the diagonal element of a given array.\n",
        "\n",
        "We ask you to provide two solutions:\n",
        "\n",
        "1.   Write your own script to solve the problem.\n",
        "2.   Find the one-line solution from the official documentation\n"
      ]
    },
    {
      "cell_type": "code",
      "metadata": {
        "id": "Txqyts_VxKO2"
      },
      "source": [
        "### define a matrix\n",
        "np.random.seed(123)   # <-- this function sets a seed to allow reproducibility. In this way, the \"randomness\" is under our control.\n",
        "m = np.random.random((10, 10))  # create a randomic 10 X 10 matrix"
      ],
      "execution_count": null,
      "outputs": []
    },
    {
      "cell_type": "code",
      "metadata": {
        "id": "4EzAlrRLy-vI",
        "colab": {
          "base_uri": "https://localhost:8080/"
        },
        "outputId": "d6d87b18-991a-45da-9c6d-fd038274569a"
      },
      "source": [
        "#\n",
        "# Complete ex 2.1 here\n",
        "#\n",
        "\n",
        "def f_sum(a):\n",
        "  s = 0\n",
        "  if a.shape[0] == a.shape[1]:\n",
        "    for i in range(a.shape[0]):\n",
        "      s += a[i,i]\n",
        "    return s\n",
        "  else:\n",
        "    return \"La matrice non e' quadrata\"\n",
        "\n",
        "print(f_sum(m))"
      ],
      "execution_count": null,
      "outputs": [
        {
          "output_type": "stream",
          "name": "stdout",
          "text": [
            "5.384955835450879\n"
          ]
        }
      ]
    },
    {
      "cell_type": "code",
      "metadata": {
        "id": "XAKZEDQ_zF2o",
        "colab": {
          "base_uri": "https://localhost:8080/"
        },
        "outputId": "4666b4bb-5ccb-4fe9-b3c2-a19d3fb4f2e6"
      },
      "source": [
        "#\n",
        "# Complete ex 2.2 here\n",
        "#\n",
        "\n",
        "print(np.trace(m))\n",
        "print(m.trace())  # it's the same"
      ],
      "execution_count": null,
      "outputs": [
        {
          "output_type": "stream",
          "name": "stdout",
          "text": [
            "5.384955835450879\n",
            "5.384955835450879\n"
          ]
        }
      ]
    },
    {
      "cell_type": "markdown",
      "metadata": {
        "id": "LK70KDzky-Fz"
      },
      "source": [
        "### Exercise 3: Linear Regression\n",
        "\n",
        "Given the current speed of a car, predict the distance needed to reach a complete stop. The exercise is divided into small subtasks, complete each of them below. <br>\n",
        "<br>\n",
        "Linear regression is defined as follows: <br>\n",
        "\n",
        "$Y = \\beta_0 + \\beta_1 X + \\epsilon$\n",
        "\n",
        "where:\n",
        "\n",
        "\n",
        "*   $\\beta_0$ is the intercept\n",
        "*   $\\beta_1$ is the slope of the linear regression\n",
        "\n",
        "\n",
        "\n"
      ]
    },
    {
      "cell_type": "code",
      "metadata": {
        "id": "XPSQa8YS0VRH",
        "colab": {
          "base_uri": "https://localhost:8080/",
          "height": 206
        },
        "outputId": "7895647c-c143-4545-d594-bcce4a699d42"
      },
      "source": [
        "# we start by importing some useful libraries\n",
        "import pandas as pd     # pandas manages our datasets (e.g., csv)\n",
        "import numpy as np      # numpy\n",
        "\n",
        "# get two graphic libraries\n",
        "import matplotlib.pyplot as plt\n",
        "import seaborn as sns\n",
        "%matplotlib inline\n",
        "\n",
        "# import the dataset\n",
        "data_url = 'https://raw.githubusercontent.com/cmdlinetips/data/master/cars.tsv'\n",
        "cars = pd.read_csv(data_url, sep=\"\\t\") # pandas allows us to import dataset from url. The rows are separated by the tab.\n",
        "\n",
        "# Using the function head() we can see the first 5 rows of the dataset.\n",
        "# From the output, we can see that the variable cars is organized as a csv file\n",
        "cars.head()"
      ],
      "execution_count": null,
      "outputs": [
        {
          "output_type": "execute_result",
          "data": {
            "text/plain": [
              "   speed  dist\n",
              "0      4     2\n",
              "1      4    10\n",
              "2      7     4\n",
              "3      7    22\n",
              "4      8    16"
            ],
            "text/html": [
              "\n",
              "  <div id=\"df-0d3a326a-1f9c-48fe-a171-5820749ccf3c\" class=\"colab-df-container\">\n",
              "    <div>\n",
              "<style scoped>\n",
              "    .dataframe tbody tr th:only-of-type {\n",
              "        vertical-align: middle;\n",
              "    }\n",
              "\n",
              "    .dataframe tbody tr th {\n",
              "        vertical-align: top;\n",
              "    }\n",
              "\n",
              "    .dataframe thead th {\n",
              "        text-align: right;\n",
              "    }\n",
              "</style>\n",
              "<table border=\"1\" class=\"dataframe\">\n",
              "  <thead>\n",
              "    <tr style=\"text-align: right;\">\n",
              "      <th></th>\n",
              "      <th>speed</th>\n",
              "      <th>dist</th>\n",
              "    </tr>\n",
              "  </thead>\n",
              "  <tbody>\n",
              "    <tr>\n",
              "      <th>0</th>\n",
              "      <td>4</td>\n",
              "      <td>2</td>\n",
              "    </tr>\n",
              "    <tr>\n",
              "      <th>1</th>\n",
              "      <td>4</td>\n",
              "      <td>10</td>\n",
              "    </tr>\n",
              "    <tr>\n",
              "      <th>2</th>\n",
              "      <td>7</td>\n",
              "      <td>4</td>\n",
              "    </tr>\n",
              "    <tr>\n",
              "      <th>3</th>\n",
              "      <td>7</td>\n",
              "      <td>22</td>\n",
              "    </tr>\n",
              "    <tr>\n",
              "      <th>4</th>\n",
              "      <td>8</td>\n",
              "      <td>16</td>\n",
              "    </tr>\n",
              "  </tbody>\n",
              "</table>\n",
              "</div>\n",
              "    <div class=\"colab-df-buttons\">\n",
              "\n",
              "  <div class=\"colab-df-container\">\n",
              "    <button class=\"colab-df-convert\" onclick=\"convertToInteractive('df-0d3a326a-1f9c-48fe-a171-5820749ccf3c')\"\n",
              "            title=\"Convert this dataframe to an interactive table.\"\n",
              "            style=\"display:none;\">\n",
              "\n",
              "  <svg xmlns=\"http://www.w3.org/2000/svg\" height=\"24px\" viewBox=\"0 -960 960 960\">\n",
              "    <path d=\"M120-120v-720h720v720H120Zm60-500h600v-160H180v160Zm220 220h160v-160H400v160Zm0 220h160v-160H400v160ZM180-400h160v-160H180v160Zm440 0h160v-160H620v160ZM180-180h160v-160H180v160Zm440 0h160v-160H620v160Z\"/>\n",
              "  </svg>\n",
              "    </button>\n",
              "\n",
              "  <style>\n",
              "    .colab-df-container {\n",
              "      display:flex;\n",
              "      gap: 12px;\n",
              "    }\n",
              "\n",
              "    .colab-df-convert {\n",
              "      background-color: #E8F0FE;\n",
              "      border: none;\n",
              "      border-radius: 50%;\n",
              "      cursor: pointer;\n",
              "      display: none;\n",
              "      fill: #1967D2;\n",
              "      height: 32px;\n",
              "      padding: 0 0 0 0;\n",
              "      width: 32px;\n",
              "    }\n",
              "\n",
              "    .colab-df-convert:hover {\n",
              "      background-color: #E2EBFA;\n",
              "      box-shadow: 0px 1px 2px rgba(60, 64, 67, 0.3), 0px 1px 3px 1px rgba(60, 64, 67, 0.15);\n",
              "      fill: #174EA6;\n",
              "    }\n",
              "\n",
              "    .colab-df-buttons div {\n",
              "      margin-bottom: 4px;\n",
              "    }\n",
              "\n",
              "    [theme=dark] .colab-df-convert {\n",
              "      background-color: #3B4455;\n",
              "      fill: #D2E3FC;\n",
              "    }\n",
              "\n",
              "    [theme=dark] .colab-df-convert:hover {\n",
              "      background-color: #434B5C;\n",
              "      box-shadow: 0px 1px 3px 1px rgba(0, 0, 0, 0.15);\n",
              "      filter: drop-shadow(0px 1px 2px rgba(0, 0, 0, 0.3));\n",
              "      fill: #FFFFFF;\n",
              "    }\n",
              "  </style>\n",
              "\n",
              "    <script>\n",
              "      const buttonEl =\n",
              "        document.querySelector('#df-0d3a326a-1f9c-48fe-a171-5820749ccf3c button.colab-df-convert');\n",
              "      buttonEl.style.display =\n",
              "        google.colab.kernel.accessAllowed ? 'block' : 'none';\n",
              "\n",
              "      async function convertToInteractive(key) {\n",
              "        const element = document.querySelector('#df-0d3a326a-1f9c-48fe-a171-5820749ccf3c');\n",
              "        const dataTable =\n",
              "          await google.colab.kernel.invokeFunction('convertToInteractive',\n",
              "                                                    [key], {});\n",
              "        if (!dataTable) return;\n",
              "\n",
              "        const docLinkHtml = 'Like what you see? Visit the ' +\n",
              "          '<a target=\"_blank\" href=https://colab.research.google.com/notebooks/data_table.ipynb>data table notebook</a>'\n",
              "          + ' to learn more about interactive tables.';\n",
              "        element.innerHTML = '';\n",
              "        dataTable['output_type'] = 'display_data';\n",
              "        await google.colab.output.renderOutput(dataTable, element);\n",
              "        const docLink = document.createElement('div');\n",
              "        docLink.innerHTML = docLinkHtml;\n",
              "        element.appendChild(docLink);\n",
              "      }\n",
              "    </script>\n",
              "  </div>\n",
              "\n",
              "\n",
              "<div id=\"df-3fdfc260-0fbe-4f11-a7ab-73b575ec2d79\">\n",
              "  <button class=\"colab-df-quickchart\" onclick=\"quickchart('df-3fdfc260-0fbe-4f11-a7ab-73b575ec2d79')\"\n",
              "            title=\"Suggest charts.\"\n",
              "            style=\"display:none;\">\n",
              "\n",
              "<svg xmlns=\"http://www.w3.org/2000/svg\" height=\"24px\"viewBox=\"0 0 24 24\"\n",
              "     width=\"24px\">\n",
              "    <g>\n",
              "        <path d=\"M19 3H5c-1.1 0-2 .9-2 2v14c0 1.1.9 2 2 2h14c1.1 0 2-.9 2-2V5c0-1.1-.9-2-2-2zM9 17H7v-7h2v7zm4 0h-2V7h2v10zm4 0h-2v-4h2v4z\"/>\n",
              "    </g>\n",
              "</svg>\n",
              "  </button>\n",
              "\n",
              "<style>\n",
              "  .colab-df-quickchart {\n",
              "      --bg-color: #E8F0FE;\n",
              "      --fill-color: #1967D2;\n",
              "      --hover-bg-color: #E2EBFA;\n",
              "      --hover-fill-color: #174EA6;\n",
              "      --disabled-fill-color: #AAA;\n",
              "      --disabled-bg-color: #DDD;\n",
              "  }\n",
              "\n",
              "  [theme=dark] .colab-df-quickchart {\n",
              "      --bg-color: #3B4455;\n",
              "      --fill-color: #D2E3FC;\n",
              "      --hover-bg-color: #434B5C;\n",
              "      --hover-fill-color: #FFFFFF;\n",
              "      --disabled-bg-color: #3B4455;\n",
              "      --disabled-fill-color: #666;\n",
              "  }\n",
              "\n",
              "  .colab-df-quickchart {\n",
              "    background-color: var(--bg-color);\n",
              "    border: none;\n",
              "    border-radius: 50%;\n",
              "    cursor: pointer;\n",
              "    display: none;\n",
              "    fill: var(--fill-color);\n",
              "    height: 32px;\n",
              "    padding: 0;\n",
              "    width: 32px;\n",
              "  }\n",
              "\n",
              "  .colab-df-quickchart:hover {\n",
              "    background-color: var(--hover-bg-color);\n",
              "    box-shadow: 0 1px 2px rgba(60, 64, 67, 0.3), 0 1px 3px 1px rgba(60, 64, 67, 0.15);\n",
              "    fill: var(--button-hover-fill-color);\n",
              "  }\n",
              "\n",
              "  .colab-df-quickchart-complete:disabled,\n",
              "  .colab-df-quickchart-complete:disabled:hover {\n",
              "    background-color: var(--disabled-bg-color);\n",
              "    fill: var(--disabled-fill-color);\n",
              "    box-shadow: none;\n",
              "  }\n",
              "\n",
              "  .colab-df-spinner {\n",
              "    border: 2px solid var(--fill-color);\n",
              "    border-color: transparent;\n",
              "    border-bottom-color: var(--fill-color);\n",
              "    animation:\n",
              "      spin 1s steps(1) infinite;\n",
              "  }\n",
              "\n",
              "  @keyframes spin {\n",
              "    0% {\n",
              "      border-color: transparent;\n",
              "      border-bottom-color: var(--fill-color);\n",
              "      border-left-color: var(--fill-color);\n",
              "    }\n",
              "    20% {\n",
              "      border-color: transparent;\n",
              "      border-left-color: var(--fill-color);\n",
              "      border-top-color: var(--fill-color);\n",
              "    }\n",
              "    30% {\n",
              "      border-color: transparent;\n",
              "      border-left-color: var(--fill-color);\n",
              "      border-top-color: var(--fill-color);\n",
              "      border-right-color: var(--fill-color);\n",
              "    }\n",
              "    40% {\n",
              "      border-color: transparent;\n",
              "      border-right-color: var(--fill-color);\n",
              "      border-top-color: var(--fill-color);\n",
              "    }\n",
              "    60% {\n",
              "      border-color: transparent;\n",
              "      border-right-color: var(--fill-color);\n",
              "    }\n",
              "    80% {\n",
              "      border-color: transparent;\n",
              "      border-right-color: var(--fill-color);\n",
              "      border-bottom-color: var(--fill-color);\n",
              "    }\n",
              "    90% {\n",
              "      border-color: transparent;\n",
              "      border-bottom-color: var(--fill-color);\n",
              "    }\n",
              "  }\n",
              "</style>\n",
              "\n",
              "  <script>\n",
              "    async function quickchart(key) {\n",
              "      const quickchartButtonEl =\n",
              "        document.querySelector('#' + key + ' button');\n",
              "      quickchartButtonEl.disabled = true;  // To prevent multiple clicks.\n",
              "      quickchartButtonEl.classList.add('colab-df-spinner');\n",
              "      try {\n",
              "        const charts = await google.colab.kernel.invokeFunction(\n",
              "            'suggestCharts', [key], {});\n",
              "      } catch (error) {\n",
              "        console.error('Error during call to suggestCharts:', error);\n",
              "      }\n",
              "      quickchartButtonEl.classList.remove('colab-df-spinner');\n",
              "      quickchartButtonEl.classList.add('colab-df-quickchart-complete');\n",
              "    }\n",
              "    (() => {\n",
              "      let quickchartButtonEl =\n",
              "        document.querySelector('#df-3fdfc260-0fbe-4f11-a7ab-73b575ec2d79 button');\n",
              "      quickchartButtonEl.style.display =\n",
              "        google.colab.kernel.accessAllowed ? 'block' : 'none';\n",
              "    })();\n",
              "  </script>\n",
              "</div>\n",
              "    </div>\n",
              "  </div>\n"
            ]
          },
          "metadata": {},
          "execution_count": 8
        }
      ]
    },
    {
      "cell_type": "code",
      "metadata": {
        "colab": {
          "base_uri": "https://localhost:8080/",
          "height": 451
        },
        "id": "EQJLyFjy1anM",
        "outputId": "8fd513dd-0bcb-4185-8ff1-d5129f42d633"
      },
      "source": [
        "#we can now use our visualizing tools to plot the data\n",
        "bplot= sns.scatterplot(x = 'speed', y = 'dist',data=cars) #define the type of plot\n",
        "bplot.axes.set_title(\"speed vs dist: Scatter Plot\",\n",
        "                    fontsize=16) #set the title\n",
        "bplot.set_ylabel(\"Distances taken to stop (feet)\",\n",
        "                fontsize=16) #set the x label\n",
        "bplot.set_xlabel(\"Speed (mph)\",\n",
        "                fontsize=16) #set the y label"
      ],
      "execution_count": null,
      "outputs": [
        {
          "output_type": "execute_result",
          "data": {
            "text/plain": [
              "Text(0.5, 0, 'Speed (mph)')"
            ]
          },
          "metadata": {},
          "execution_count": 9
        },
        {
          "output_type": "display_data",
          "data": {
            "text/plain": [
              "<Figure size 640x480 with 1 Axes>"
            ],
            "image/png": "[encoded data removed]"
          },
          "metadata": {}
        }
      ]
    },
    {
      "cell_type": "code",
      "metadata": {
        "id": "SpGqa4q01p_3"
      },
      "source": [
        "## We now can define X (the speed) to predict the distance require to stop\n",
        "X = cars[\"speed\"].values #get all the values of the \"speed\" column\n",
        "Y = cars[\"dist\"].values #get all the values of the \"Dist\" column"
      ],
      "execution_count": null,
      "outputs": []
    },
    {
      "cell_type": "markdown",
      "metadata": {
        "id": "EbNBJtAv9Z8n"
      },
      "source": [
        "**EX 3.1** It's time to solve the problem.\n",
        "The first thing to do is to define a matrix containing both coefficient vectors for $\\beta_0$ and $\\beta_1$. <br>\n",
        "\n",
        "To do it, we need to:\n",
        "\n",
        "\n",
        "*   create a vector $v$ containing all 1. $|v|$ is equal to the number of samples.\n",
        "*   create a matrix X_mat of size $(n , 2)$, where the first column is $v$, and the second column is our $X$. To complete this operation, you might use the function *np.vstack* (see numpy documentation).\n",
        "\n"
      ]
    },
    {
      "cell_type": "code",
      "metadata": {
        "id": "UuFY8p-8_tjE",
        "colab": {
          "base_uri": "https://localhost:8080/"
        },
        "outputId": "22111509-66df-46a0-e92c-596de763a88c"
      },
      "source": [
        "#\n",
        "# EX 3.1\n",
        "#\n",
        "# X_mat = #name of the variable holding the (n,2) matrix\n",
        "\n",
        "# create vector v containing all 1\n",
        "n = len(X)\n",
        "v = np.ones(n)\n",
        "\n",
        "# create a matrix X_mat\n",
        "X_mat = np.vstack([v,X]).T\n",
        "\n",
        "print(X_mat[:5])"
      ],
      "execution_count": null,
      "outputs": [
        {
          "output_type": "stream",
          "name": "stdout",
          "text": [
            "[[1. 4.]\n",
            " [1. 4.]\n",
            " [1. 7.]\n",
            " [1. 7.]\n",
            " [1. 8.]]\n"
          ]
        }
      ]
    },
    {
      "cell_type": "markdown",
      "metadata": {
        "id": "PPJpyUAu2MKe"
      },
      "source": [
        "**EX 3.2** Use now your numpy skills to find the regression parameters. In particular, we recall the following:\n",
        "\n",
        "$\\hat{\\beta} = (X^T.X)^{-1}.X^T.Y$\n",
        "\n",
        "The variable $\\hat{\\beta}$ contains the estimates of the two parameters of the linear model. We can compute them by implementing the formula above in numpy."
      ]
    },
    {
      "cell_type": "code",
      "metadata": {
        "id": "6m8vUu4_3I_1",
        "colab": {
          "base_uri": "https://localhost:8080/"
        },
        "outputId": "4423d209-40ad-4613-c89c-4ae0cb8d5739"
      },
      "source": [
        "#\n",
        "# Solve exercise 3.2 here\n",
        "#\n",
        "# beta_hat = # name of the variable that will hold the best parameters\n",
        "\n",
        "b_hat = np.linalg.inv(X_mat.T @ X_mat).dot(X_mat.T).dot(Y)\n",
        "\n",
        "print(b_hat)\n",
        "\n",
        "#\n",
        "# end of exercise 2.3.2. Do not modify the next line\n",
        "#\n"
      ],
      "execution_count": null,
      "outputs": [
        {
          "output_type": "stream",
          "name": "stdout",
          "text": [
            "[-17.57909489   3.93240876]\n"
          ]
        }
      ]
    },
    {
      "cell_type": "markdown",
      "metadata": {
        "id": "-5cWya1PisV6"
      },
      "source": [
        "**EX 3.3** We now know the values for $\\hat{\\beta}_0$ and $\\hat{\\beta}_1$. Can you manually predict the outcome when the speed (i.e., $x$) is set to 21?"
      ]
    },
    {
      "cell_type": "code",
      "metadata": {
        "id": "zeTxXc3GjBe3",
        "colab": {
          "base_uri": "https://localhost:8080/"
        },
        "outputId": "b90ba20b-9708-46b9-b7bb-d2bd12b1101a"
      },
      "source": [
        "#\n",
        "# Solve EX 2.3.3 here\n",
        "#\n",
        "\n",
        "beta_0 = b_hat[0]\n",
        "beta_1 = b_hat[1]\n",
        "\n",
        "x_ = 21\n",
        "\n",
        "print(beta_0 + x_ * beta_1)"
      ],
      "execution_count": null,
      "outputs": [
        {
          "output_type": "stream",
          "name": "stdout",
          "text": [
            "65.00148905109481\n"
          ]
        }
      ]
    },
    {
      "cell_type": "markdown",
      "metadata": {
        "id": "humlI6QyA0bU"
      },
      "source": [
        "**EX 3.4** Once we have estimated $\\hat{\\beta}$, we can compute $\\hat{y}$, i.e., our estimations for the examples of our dataset."
      ]
    },
    {
      "cell_type": "code",
      "metadata": {
        "id": "b3UlxY4aAzia",
        "colab": {
          "base_uri": "https://localhost:8080/"
        },
        "outputId": "13b43d89-df9c-4b73-84cd-0ace8d16e5f6"
      },
      "source": [
        "#\n",
        "# Solve EX 2.3.4 here\n",
        "#\n",
        "\n",
        "y_hat = X_mat.dot(b_hat)\n",
        "\n",
        "print(y_hat)"
      ],
      "execution_count": null,
      "outputs": [
        {
          "output_type": "stream",
          "name": "stdout",
          "text": [
            "[-1.84945985 -1.84945985  9.94776642  9.94776642 13.88017518 17.81258394\n",
            " 21.7449927  21.7449927  21.7449927  25.67740146 25.67740146 29.60981022\n",
            " 29.60981022 29.60981022 29.60981022 33.54221898 33.54221898 33.54221898\n",
            " 33.54221898 37.47462774 37.47462774 37.47462774 37.47462774 41.4070365\n",
            " 41.4070365  41.4070365  45.33944526 45.33944526 49.27185401 49.27185401\n",
            " 49.27185401 53.20426277 53.20426277 53.20426277 53.20426277 57.13667153\n",
            " 57.13667153 57.13667153 61.06908029 61.06908029 61.06908029 61.06908029\n",
            " 61.06908029 68.93389781 72.86630657 76.79871533 76.79871533 76.79871533\n",
            " 76.79871533 80.73112409]\n"
          ]
        }
      ]
    },
    {
      "cell_type": "markdown",
      "metadata": {
        "id": "sjK-ivYK3Xiq"
      },
      "source": [
        "We can now plot the regression solution. <br>"
      ]
    },
    {
      "cell_type": "code",
      "metadata": {
        "id": "BxSIDpmn3L4i",
        "colab": {
          "base_uri": "https://localhost:8080/",
          "height": 282
        },
        "outputId": "26df31ed-d033-40ea-8e4a-66d0e49e48b4"
      },
      "source": [
        "# plot data and predictions\n",
        "\n",
        "## uncomment the following two lines\n",
        "plt.scatter(X, Y)\n",
        "plt.plot(X, y_hat, color='red')"
      ],
      "execution_count": null,
      "outputs": [
        {
          "output_type": "execute_result",
          "data": {
            "text/plain": [
              "[<matplotlib.lines.Line2D at 0x7fb14dcc4210>]"
            ]
          },
          "metadata": {},
          "execution_count": 21
        },
        {
          "output_type": "display_data",
          "data": {
            "text/plain": [
              "<Figure size 432x288 with 1 Axes>"
            ],
            "image/png": "[encoded data removed]"
          },
          "metadata": {
            "needs_background": "light"
          }
        }
      ]
    },
    {
      "cell_type": "markdown",
      "metadata": {
        "id": "Bkp4H3ZmBw_T"
      },
      "source": [
        "We now have both $y$ (true values) and estimations $\\hat{y}$ computed with our regressor. <br>\n",
        "**EX 3.5** Let's now compute the average error of our estimates, defined as follows: $err = \\frac{1}{n} \\sum_{i = 0}^{n}(y_i - \\hat{y}_i )^2$."
      ]
    },
    {
      "cell_type": "code",
      "metadata": {
        "id": "Bh9Ajs5KCjRr",
        "colab": {
          "base_uri": "https://localhost:8080/"
        },
        "outputId": "81edae76-615e-4e24-ac1a-782287adb566"
      },
      "source": [
        "#\n",
        "# Solve EX 2.3.5 here\n",
        "#\n",
        "\n",
        "err = np.sum((Y - y_hat)**2) / len(Y)\n",
        "print(err)"
      ],
      "execution_count": null,
      "outputs": [
        {
          "output_type": "stream",
          "name": "stdout",
          "text": [
            "227.07042102189783\n"
          ]
        }
      ]
    }
  ]
}