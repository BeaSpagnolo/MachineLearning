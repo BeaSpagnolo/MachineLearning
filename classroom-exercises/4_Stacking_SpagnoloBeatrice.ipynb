{
  "cells": [
    {
      "cell_type": "markdown",
      "metadata": {
        "id": "BfyGsMOvMWMT"
      },
      "source": [
        "In this assignment we implement an ensemble method: Stacking.\n",
        "We are going to train a neural network and a decision tree first, and then use their predictions as input to a second classifier: Logistic Regression.\n",
        "\n",
        "We start as usual with installing some software.\n"
      ]
    },
    {
      "cell_type": "code",
      "execution_count": null,
      "metadata": {
        "colab": {
          "base_uri": "https://localhost:8080/"
        },
        "id": "Sy9ekTGLYbSO",
        "outputId": "e1ad07e3-794a-4b62-bf4f-0fe982294881"
      },
      "outputs": [
        {
          "output_type": "stream",
          "name": "stdout",
          "text": [
            "Reading package lists... Done\n",
            "Building dependency tree... Done\n",
            "Reading state information... Done\n",
            "python3.10 is already the newest version (3.10.12-1~22.04.3).\n",
            "0 upgraded, 0 newly installed, 0 to remove and 32 not upgraded.\n",
            "Requirement already satisfied: scikit-learn==1.2.2 in /usr/local/lib/python3.10/dist-packages (1.2.2)\n",
            "Requirement already satisfied: numpy>=1.17.3 in /usr/local/lib/python3.10/dist-packages (from scikit-learn==1.2.2) (1.23.5)\n",
            "Requirement already satisfied: scipy>=1.3.2 in /usr/local/lib/python3.10/dist-packages (from scikit-learn==1.2.2) (1.11.4)\n",
            "Requirement already satisfied: joblib>=1.1.1 in /usr/local/lib/python3.10/dist-packages (from scikit-learn==1.2.2) (1.3.2)\n",
            "Requirement already satisfied: threadpoolctl>=2.0.0 in /usr/local/lib/python3.10/dist-packages (from scikit-learn==1.2.2) (3.2.0)\n"
          ]
        }
      ],
      "source": [
        "# SETUP\n",
        "# install python at version 3.10\n",
        "!apt-get install python3.10\n",
        "\n",
        "# update symbolic links to the newly installed python version\n",
        "!ln -sf /usr/bin/python3.10 /usr/bin/python\n",
        "!ln -sf /usr/bin/python3.10 /usr/bin/python3\n",
        "\n",
        "# install scikit-learn 1.2.2\n",
        "%pip install scikit-learn==1.2.2"
      ]
    },
    {
      "cell_type": "markdown",
      "metadata": {
        "id": "2_PISpyC9r-b"
      },
      "source": [
        "Next we create a corpus and extract a train, a validation and a test set."
      ]
    },
    {
      "cell_type": "code",
      "execution_count": null,
      "metadata": {
        "colab": {
          "base_uri": "https://localhost:8080/"
        },
        "id": "iYJP_3XLNtg3",
        "outputId": "c5600f9b-3cd2-45be-b3ef-497680ed8833"
      },
      "outputs": [
        {
          "output_type": "stream",
          "name": "stdout",
          "text": [
            "(110, 2) (110, 2) (880, 2)\n"
          ]
        }
      ],
      "source": [
        "import numpy as np\n",
        "import random\n",
        "import tensorflow as tf\n",
        "from sklearn.datasets import make_blobs\n",
        "from tensorflow.python.framework.random_seed import set_random_seed\n",
        "from keras import initializers\n",
        "from matplotlib import pyplot\n",
        "from sklearn.model_selection import train_test_split\n",
        "from sklearn.tree import DecisionTreeClassifier\n",
        "from sklearn.linear_model import LogisticRegression\n",
        "from sklearn.metrics import accuracy_score\n",
        "from keras.models import Sequential\n",
        "from keras.optimizers import SGD\n",
        "from keras.callbacks import EarlyStopping\n",
        "from keras.layers import Dense, Input\n",
        "from keras.utils import to_categorical\n",
        "from tensorflow.python.framework.random_seed import set_random_seed\n",
        "\n",
        "X, y = make_blobs(n_samples=1100, centers=3, n_features=2, cluster_std=2, random_state=2)\n",
        "trainX, valtestX, trainy, valtesty = train_test_split(X, y, train_size=0.1, shuffle=False)\n",
        "valX, testX, valy, testy = train_test_split(valtestX, valtesty, train_size=0.112, shuffle=False)\n",
        "trainy_cat, valy_cat, testy_cat = to_categorical(trainy), to_categorical(valy), to_categorical(testy)\n",
        "\n",
        "print(trainX.shape, valX.shape, testX.shape)\n",
        "\n",
        "random.seed(42)\n",
        "np.random.seed(42)\n",
        "set_random_seed(42)\n"
      ]
    },
    {
      "cell_type": "markdown",
      "metadata": {
        "id": "TCPq9DqgGLgn"
      },
      "source": [
        "**Exercise 2.1**\n",
        "\n",
        "Let's train a Neural Network on the training set trainX.\n",
        "The network uses:\n",
        "\n",
        "*   an input layer, an hidden layer of dimension 25 with RELU activation function, an output layer of dimension 3 with softmax activation\n",
        "*   categorical cross entropy as loss\n",
        "*   adam as optimizer\n",
        "*   valX as validation set. The option to the command fit for doing this is \"validation_data=(valX, valy_cat)\"\n",
        "*   train for 500 epochs\n",
        "\n"
      ]
    },
    {
      "cell_type": "code",
      "execution_count": null,
      "metadata": {
        "colab": {
          "base_uri": "https://localhost:8080/",
          "height": 538
        },
        "id": "5l9EJgkR74vZ",
        "outputId": "46111720-520a-4a9e-86e6-021976dd6b43"
      },
      "outputs": [
        {
          "output_type": "stream",
          "name": "stdout",
          "text": [
            "Model: \"sequential\"\n",
            "_________________________________________________________________\n",
            " Layer (type)                Output Shape              Param #   \n",
            "=================================================================\n",
            " dense (Dense)               (None, 25)                75        \n",
            "                                                                 \n",
            " dense_1 (Dense)             (None, 3)                 78        \n",
            "                                                                 \n",
            "=================================================================\n",
            "Total params: 153 (612.00 Byte)\n",
            "Trainable params: 153 (612.00 Byte)\n",
            "Non-trainable params: 0 (0.00 Byte)\n",
            "_________________________________________________________________\n"
          ]
        },
        {
          "output_type": "execute_result",
          "data": {
            "image/png": "[encoded data removed]",
            "text/plain": [
              "<IPython.core.display.Image object>"
            ]
          },
          "metadata": {},
          "execution_count": 3
        }
      ],
      "source": [
        "# Add your code here\n",
        "from keras.utils import plot_model\n",
        "\n",
        "num_features = trainX.shape[1]\n",
        "num_classes = 3\n",
        "\n",
        "nn_model = Sequential()\n",
        "nn_model.add(Dense(input_dim=num_features, units=25, activation='relu')) #input layer\n",
        "nn_model.add(Dense(units=num_classes, activation='softmax')) #output layer\n",
        "\n",
        "nn_model.summary()\n",
        "plot_model(nn_model, show_shapes=True)  #plot of the model"
      ]
    },
    {
      "cell_type": "code",
      "source": [
        "nn_model.compile(loss='categorical_crossentropy', optimizer='adam', metrics=['accuracy']) #compile the model\n",
        "\n",
        "history = nn_model.fit(trainX, trainy_cat, epochs=500, verbose=0, validation_data = (valX, valy_cat)) #train the model"
      ],
      "metadata": {
        "id": "cOWpSCqtGzbh"
      },
      "execution_count": null,
      "outputs": []
    },
    {
      "cell_type": "markdown",
      "metadata": {
        "id": "STEsmSmB84yO"
      },
      "source": [
        "we now check the performance of the network"
      ]
    },
    {
      "cell_type": "code",
      "execution_count": null,
      "metadata": {
        "id": "sk7qiXsf8_IZ",
        "colab": {
          "base_uri": "https://localhost:8080/",
          "height": 451
        },
        "outputId": "820b2e67-b4a8-4733-a05c-c151b49ad262"
      },
      "outputs": [
        {
          "output_type": "stream",
          "name": "stdout",
          "text": [
            "Train: 0.873, Val: 0.818, Test: 0.810\n"
          ]
        },
        {
          "output_type": "display_data",
          "data": {
            "text/plain": [
              "<Figure size 640x480 with 1 Axes>"
            ],
            "image/png": "[encoded data removed]"
          },
          "metadata": {}
        }
      ],
      "source": [
        "_, train_acc = nn_model.evaluate(trainX, trainy_cat, verbose=0)\n",
        "_, val_acc = nn_model.evaluate(valX, valy_cat, verbose=0)\n",
        "_, test_acc = nn_model.evaluate(testX, testy_cat, verbose=0)\n",
        "print('Train: %.3f, Val: %.3f, Test: %.3f' % (train_acc, val_acc, test_acc))\n",
        "pyplot.plot(history.history['accuracy'], label='train')\n",
        "pyplot.plot(history.history['val_accuracy'], label='validation')\n",
        "pyplot.legend()\n",
        "pyplot.show()"
      ]
    },
    {
      "cell_type": "markdown",
      "metadata": {
        "id": "4SBF6XL96O5R"
      },
      "source": [
        "**Exercise 2.2**\n",
        "\n",
        "Initialise a decision tree (use *dt_model* as variable name) using random_state=123, setting maximum depth to 2 and using the default splitting criterion.\n",
        "\n",
        "Train *dt_model* on trainX."
      ]
    },
    {
      "cell_type": "code",
      "execution_count": null,
      "metadata": {
        "id": "2Qy1lc2vTQ4H",
        "colab": {
          "base_uri": "https://localhost:8080/",
          "height": 74
        },
        "outputId": "9235898d-81d6-4a22-9003-7492f816979e"
      },
      "outputs": [
        {
          "output_type": "execute_result",
          "data": {
            "text/plain": [
              "DecisionTreeClassifier(max_depth=2, random_state=123)"
            ],
            "text/html": [
              "<style>#sk-container-id-1 {color: black;background-color: white;}#sk-container-id-1 pre{padding: 0;}#sk-container-id-1 div.sk-toggleable {background-color: white;}#sk-container-id-1 label.sk-toggleable__label {cursor: pointer;display: block;width: 100%;margin-bottom: 0;padding: 0.3em;box-sizing: border-box;text-align: center;}#sk-container-id-1 label.sk-toggleable__label-arrow:before {content: \"▸\";float: left;margin-right: 0.25em;color: #696969;}#sk-container-id-1 label.sk-toggleable__label-arrow:hover:before {color: black;}#sk-container-id-1 div.sk-estimator:hover label.sk-toggleable__label-arrow:before {color: black;}#sk-container-id-1 div.sk-toggleable__content {max-height: 0;max-width: 0;overflow: hidden;text-align: left;background-color: #f0f8ff;}#sk-container-id-1 div.sk-toggleable__content pre {margin: 0.2em;color: black;border-radius: 0.25em;background-color: #f0f8ff;}#sk-container-id-1 input.sk-toggleable__control:checked~div.sk-toggleable__content {max-height: 200px;max-width: 100%;overflow: auto;}#sk-container-id-1 input.sk-toggleable__control:checked~label.sk-toggleable__label-arrow:before {content: \"▾\";}#sk-container-id-1 div.sk-estimator input.sk-toggleable__control:checked~label.sk-toggleable__label {background-color: #d4ebff;}#sk-container-id-1 div.sk-label input.sk-toggleable__control:checked~label.sk-toggleable__label {background-color: #d4ebff;}#sk-container-id-1 input.sk-hidden--visually {border: 0;clip: rect(1px 1px 1px 1px);clip: rect(1px, 1px, 1px, 1px);height: 1px;margin: -1px;overflow: hidden;padding: 0;position: absolute;width: 1px;}#sk-container-id-1 div.sk-estimator {font-family: monospace;background-color: #f0f8ff;border: 1px dotted black;border-radius: 0.25em;box-sizing: border-box;margin-bottom: 0.5em;}#sk-container-id-1 div.sk-estimator:hover {background-color: #d4ebff;}#sk-container-id-1 div.sk-parallel-item::after {content: \"\";width: 100%;border-bottom: 1px solid gray;flex-grow: 1;}#sk-container-id-1 div.sk-label:hover label.sk-toggleable__label {background-color: #d4ebff;}#sk-container-id-1 div.sk-serial::before {content: \"\";position: absolute;border-left: 1px solid gray;box-sizing: border-box;top: 0;bottom: 0;left: 50%;z-index: 0;}#sk-container-id-1 div.sk-serial {display: flex;flex-direction: column;align-items: center;background-color: white;padding-right: 0.2em;padding-left: 0.2em;position: relative;}#sk-container-id-1 div.sk-item {position: relative;z-index: 1;}#sk-container-id-1 div.sk-parallel {display: flex;align-items: stretch;justify-content: center;background-color: white;position: relative;}#sk-container-id-1 div.sk-item::before, #sk-container-id-1 div.sk-parallel-item::before {content: \"\";position: absolute;border-left: 1px solid gray;box-sizing: border-box;top: 0;bottom: 0;left: 50%;z-index: -1;}#sk-container-id-1 div.sk-parallel-item {display: flex;flex-direction: column;z-index: 1;position: relative;background-color: white;}#sk-container-id-1 div.sk-parallel-item:first-child::after {align-self: flex-end;width: 50%;}#sk-container-id-1 div.sk-parallel-item:last-child::after {align-self: flex-start;width: 50%;}#sk-container-id-1 div.sk-parallel-item:only-child::after {width: 0;}#sk-container-id-1 div.sk-dashed-wrapped {border: 1px dashed gray;margin: 0 0.4em 0.5em 0.4em;box-sizing: border-box;padding-bottom: 0.4em;background-color: white;}#sk-container-id-1 div.sk-label label {font-family: monospace;font-weight: bold;display: inline-block;line-height: 1.2em;}#sk-container-id-1 div.sk-label-container {text-align: center;}#sk-container-id-1 div.sk-container {/* jupyter's `normalize.less` sets `[hidden] { display: none; }` but bootstrap.min.css set `[hidden] { display: none !important; }` so we also need the `!important` here to be able to override the default hidden behavior on the sphinx rendered scikit-learn.org. See: https://github.com/scikit-learn/scikit-learn/issues/21755 */display: inline-block !important;position: relative;}#sk-container-id-1 div.sk-text-repr-fallback {display: none;}</style><div id=\"sk-container-id-1\" class=\"sk-top-container\"><div class=\"sk-text-repr-fallback\"><pre>DecisionTreeClassifier(max_depth=2, random_state=123)</pre><b>In a Jupyter environment, please rerun this cell to show the HTML representation or trust the notebook. <br />On GitHub, the HTML representation is unable to render, please try loading this page with nbviewer.org.</b></div><div class=\"sk-container\" hidden><div class=\"sk-item\"><div class=\"sk-estimator sk-toggleable\"><input class=\"sk-toggleable__control sk-hidden--visually\" id=\"sk-estimator-id-1\" type=\"checkbox\" checked><label for=\"sk-estimator-id-1\" class=\"sk-toggleable__label sk-toggleable__label-arrow\">DecisionTreeClassifier</label><div class=\"sk-toggleable__content\"><pre>DecisionTreeClassifier(max_depth=2, random_state=123)</pre></div></div></div></div></div>"
            ]
          },
          "metadata": {},
          "execution_count": 6
        }
      ],
      "source": [
        "# Add your code here\n",
        "dt_model = DecisionTreeClassifier(random_state=123, max_depth=2)\n",
        "dt_model.fit(trainX, trainy) #train the model"
      ]
    },
    {
      "cell_type": "markdown",
      "metadata": {
        "id": "H6BFqUNq6w0Q"
      },
      "source": [
        "We check the accuracy on train, validation and test; we extract the probabilities for each class."
      ]
    },
    {
      "cell_type": "code",
      "execution_count": null,
      "metadata": {
        "id": "khLZZVCaZmmu",
        "colab": {
          "base_uri": "https://localhost:8080/"
        },
        "outputId": "06c00662-9bba-4c9c-d19b-2f437b7c87e7"
      },
      "outputs": [
        {
          "output_type": "stream",
          "name": "stdout",
          "text": [
            "Train: 0.836, Val: 0.709, Test: 0.773\n",
            "4/4 [==============================] - 0s 3ms/step\n",
            "4/4 [==============================] - 0s 3ms/step\n",
            "28/28 [==============================] - 0s 1ms/step\n"
          ]
        }
      ],
      "source": [
        "print('Train: %.3f, Val: %.3f, Test: %.3f' % (dt_model.score(trainX, trainy), dt_model.score(valX, valy), dt_model.score(testX, testy)))\n",
        "nn_scores_train, nn_scores_val, nn_scores_test = (nn_model.predict(trainX), nn_model.predict(valX), nn_model.predict(testX))\n",
        "dt_scores_train, dt_scores_val, dt_scores_test = (dt_model.predict_proba(trainX), dt_model.predict_proba(valX), dt_model.predict_proba(testX))\n"
      ]
    },
    {
      "cell_type": "markdown",
      "metadata": {
        "id": "TweXgCtBHDNW"
      },
      "source": [
        " **Exercise 2.3**\n",
        "\n",
        " Let's consider a $\\phi()$ function that maps an example of the dataset into 6 features:\n",
        "\n",
        "1.   the probability of the example to belong to each class by the Neural Network model (first 3 features)\n",
        "2.   the probability of the example to belong to each class by the Decision Tree (latest 3 features)\n",
        "\n",
        "Let's create the corresponding training, validation and test datasets.\n",
        "For the variable names, add the prefix \"stacked_\", for example stacked_X_train."
      ]
    },
    {
      "cell_type": "code",
      "execution_count": null,
      "metadata": {
        "id": "SXgcnhLKHJSr"
      },
      "outputs": [],
      "source": [
        "# Add your code here\n",
        "stacked_X_train = np.hstack((nn_scores_train, dt_scores_train))\n",
        "stacked_X_val = np.hstack((nn_scores_val, dt_scores_val))\n",
        "stacked_X_test = np.hstack((nn_scores_test, dt_scores_test))"
      ]
    },
    {
      "cell_type": "code",
      "execution_count": null,
      "metadata": {
        "id": "13W6-lX9HP6F",
        "colab": {
          "base_uri": "https://localhost:8080/"
        },
        "outputId": "5b39697a-e71d-4086-829e-e36c6a6d2172"
      },
      "outputs": [
        {
          "output_type": "stream",
          "name": "stdout",
          "text": [
            "(110, 6) (110, 6) (880, 6)\n"
          ]
        }
      ],
      "source": [
        "print(stacked_X_train.shape, stacked_X_val.shape, stacked_X_test.shape)"
      ]
    },
    {
      "cell_type": "markdown",
      "metadata": {
        "id": "K6nxlP0XeWLw"
      },
      "source": [
        "**Exercise 2.4** We now train a Logistic Regression classifier on this new data we just created. Specifically, we set the maximum iterations to 500 and fit_intercept=True. We select the best value of the C parameter, among 0.001, 0.01, 0.1, 1, 10, 100, 1000, with respect to its accuracy on the validation set.\n",
        "Finally, we print the accuracy of the best model (trained on the training set only) on the validation and test sets.\n"
      ]
    },
    {
      "cell_type": "code",
      "execution_count": null,
      "metadata": {
        "id": "TDFnIM7_UJFW",
        "colab": {
          "base_uri": "https://localhost:8080/"
        },
        "outputId": "3ce71a7f-ccc5-4940-f6a1-49f2e6032021"
      },
      "outputs": [
        {
          "output_type": "stream",
          "name": "stdout",
          "text": [
            "The best parameter is C = 100 and his accuracy is 0.8090909090909091\n",
            "Accuracy score of the best model on the validation is 0.8090909090909091\n",
            "Accuracy score of the best model on the test is 0.8136363636363636\n"
          ]
        }
      ],
      "source": [
        "# Add your code here\n",
        "C = [0.001, 0.01, 0.1, 1, 10, 100, 1000]\n",
        "accuracy_list = []\n",
        "\n",
        "for c in C:\n",
        "  lr = LogisticRegression(C = c, max_iter = 200, fit_intercept=True)\n",
        "  lr.fit(stacked_X_train, trainy)\n",
        "  valy_pred = lr.predict(stacked_X_val) #estimation\n",
        "  acc = accuracy_score(valy, valy_pred) #accuracy\n",
        "  accuracy_list.append((acc, c))\n",
        "\n",
        "accuracy_list.sort(reverse=True)\n",
        "\n",
        "#select the best value of the C parameter\n",
        "best_c = accuracy_list[0][1]\n",
        "best_acc = accuracy_list[0][0]\n",
        "print(\"The best parameter is C = {} and his accuracy is {}\".format(best_c, best_acc))\n",
        "\n",
        "best_model = LogisticRegression(C = best_c, max_iter = 200, fit_intercept=True)\n",
        "best_model.fit(stacked_X_train, trainy)\n",
        "\n",
        "valy_pred = best_model.predict(stacked_X_val)\n",
        "testy_pred = best_model.predict(stacked_X_test)\n",
        "\n",
        "print(\"Accuracy score of the best model on the validation is\", accuracy_score(valy, valy_pred))\n",
        "print(\"Accuracy score of the best model on the test is\", accuracy_score(testy, testy_pred))"
      ]
    }
  ],
  "metadata": {
    "colab": {
      "provenance": []
    },
    "kernelspec": {
      "display_name": "Python 3",
      "name": "python3"
    },
    "language_info": {
      "name": "python"
    }
  },
  "nbformat": 4,
  "nbformat_minor": 0
}